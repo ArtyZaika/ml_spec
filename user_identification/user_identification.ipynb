{
 "cells": [
  {
   "cell_type": "markdown",
   "metadata": {},
   "source": [
    "## <center> Artem Zaika: User authentication at the visited web pages"
   ]
  },
  {
   "cell_type": "markdown",
   "metadata": {},
   "source": [
    "In this project we will solve the problem of identification of the user behavior on the Internet. This is a complex and interesting challenge at the intersection of data Analytics and behavioral psychology. As an example, Yandex solves the problem of identifying the attacker's mailbox by his behavior. In a nutshell, the attacker will behave not as the owner of the box: he may not delete messages immediately after reading, as did the master, it will be another way to put check boxes, messages, and even to move the mouse. Then this attacker can be identified and \"thrown out\" from a mailbox, inviting the owner to enter the SMS code. \n",
    "\n",
    "We will solve this problem: for a sequence of web sites visited in succession one and the same person, we're going to identify this person. The idea is this: Internet users in different ways click on links and it can help to identify them (someone at first in mail, then about football to read, then news, contact, then finally to work, someone from work).\n",
    "\n",
    "We use data from [article](http://ceur-ws.org/Vol-1058/) \"A Tool for Classification of Sequential Data\". And although this this article can't be recommend (the methods described are far from state-of-the-art, better to turn to [the book](http://www.charuaggarwal.net/freqbook.pdf) \"Frequent Pattern Mining\", and the latest articles from ICDM), but the data they collected carefully and are of interest.\n",
    "\n",
    "Data collected from proxy servers of Blaise Pascal University and have a very simple view: <br>\n",
    "\n",
    "<center>**User ID, timestamp, visited web site**</center>\n",
    "\n",
    "Download the original data can be [link](http://fc.isima.fr/~kahngi/cez13.zip) there is description in the article.\n",
    "\n",
    "For this work I'll be using just 10 and 150 users. [Link](https://yadi.sk/d/_HK76ZDo32AvNZ) archive *capstone_websites_data.zip* (~7.1 Mb, and in expanded form ~ 65 Mb)"
   ]
  },
  {
   "cell_type": "code",
   "execution_count": 2,
   "metadata": {
    "ExecuteTime": {
     "end_time": "2017-02-08T12:59:35.462264",
     "start_time": "2017-02-08T12:59:34.633908"
    },
    "collapsed": false
   },
   "outputs": [
    {
     "name": "stdout",
     "output_type": "stream",
     "text": [
      "Populating the interactive namespace from numpy and matplotlib\n"
     ]
    }
   ],
   "source": [
    "import warnings\n",
    "warnings.filterwarnings('ignore')\n",
    "from glob import glob\n",
    "from datetime import datetime as dttime\n",
    "import numpy as np\n",
    "import pandas as pd\n",
    "pd.set_option('display.max.columns', 25)\n",
    "\n",
    "from scipy.sparse import csr_matrix\n",
    "from sklearn.model_selection import train_test_split, cross_val_score\n",
    "from sklearn.preprocessing import LabelEncoder\n",
    "from sklearn.metrics import accuracy_score, f1_score\n",
    "\n",
    "from sklearn.model_selection import GridSearchCV, RandomizedSearchCV\n",
    "from sklearn.model_selection import StratifiedKFold, StratifiedShuffleSplit\n",
    "from sklearn.linear_model import LogisticRegression\n",
    "from collections import defaultdict, Counter\n",
    "from scipy.sparse import hstack as sp_hstack\n",
    "from tsfresh.transformers import RelevantFeatureAugmenter\n",
    "import xgboost as xgb\n",
    "import pickle\n",
    "\n",
    "import seaborn as sns\n",
    "%pylab inline"
   ]
  },
  {
   "cell_type": "markdown",
   "metadata": {},
   "source": [
    "## The goals and objectives of the project"
   ]
  },
  {
   "cell_type": "markdown",
   "metadata": {},
   "source": [
    "In my project, I will follow these steps: first, I will examine the data collected from the servers of the University Blaise Pascal, research it, try to find information useful for making features. Then I'll train the model and compare the results.\n",
    "\n",
    "* <a href=\"#1.-Feature-engineering\">1. Feature engineering</a>\n",
    "* <a href=\"#2.-Visual-analysis-of-data\">2. Visual analysis of data</a>\n",
    "* <a href=\"#3.-Build-and-compare-models\">3. Build and compare models</a>\n",
    "* <a href=\"#4.-Further-feature-engineering\">4. Further feature engineering</a>\n",
    "* <a href=\"#5.-Conclusion\">5. Conclusion</a>"
   ]
  },
  {
   "cell_type": "markdown",
   "metadata": {},
   "source": [
    "## 1. Feature engineering"
   ]
  },
  {
   "cell_type": "markdown",
   "metadata": {},
   "source": [
    "After we downloaded the data, in the directory \"capstone_websites_data\" should be nested directories \"10users\" and \"150users\" contains data of 10 and 150 users, respectively, collected in a separate file for each user. Upload data for a single user."
   ]
  },
  {
   "cell_type": "code",
   "execution_count": 3,
   "metadata": {
    "ExecuteTime": {
     "end_time": "2017-02-08T12:59:43.435080",
     "start_time": "2017-02-08T12:59:43.377296"
    },
    "collapsed": false
   },
   "outputs": [
    {
     "data": {
      "text/html": [
       "<div>\n",
       "<table border=\"1\" class=\"dataframe\">\n",
       "  <thead>\n",
       "    <tr style=\"text-align: right;\">\n",
       "      <th></th>\n",
       "      <th>user_id</th>\n",
       "      <th>time</th>\n",
       "      <th>sites</th>\n",
       "    </tr>\n",
       "  </thead>\n",
       "  <tbody>\n",
       "    <tr>\n",
       "      <th>0</th>\n",
       "      <td>6</td>\n",
       "      <td>2013-11-15T08:01:10</td>\n",
       "      <td>www.google.fr</td>\n",
       "    </tr>\n",
       "    <tr>\n",
       "      <th>1</th>\n",
       "      <td>6</td>\n",
       "      <td>2013-11-15T08:01:11</td>\n",
       "      <td>apis.google.com</td>\n",
       "    </tr>\n",
       "    <tr>\n",
       "      <th>2</th>\n",
       "      <td>6</td>\n",
       "      <td>2013-11-15T08:01:12</td>\n",
       "      <td>www.google.com</td>\n",
       "    </tr>\n",
       "    <tr>\n",
       "      <th>3</th>\n",
       "      <td>6</td>\n",
       "      <td>2013-11-15T08:01:16</td>\n",
       "      <td>apis.google.com</td>\n",
       "    </tr>\n",
       "    <tr>\n",
       "      <th>4</th>\n",
       "      <td>6</td>\n",
       "      <td>2013-11-15T08:01:17</td>\n",
       "      <td>www.google.com</td>\n",
       "    </tr>\n",
       "  </tbody>\n",
       "</table>\n",
       "</div>"
      ],
      "text/plain": [
       "   user_id                 time            sites\n",
       "0        6  2013-11-15T08:01:10    www.google.fr\n",
       "1        6  2013-11-15T08:01:11  apis.google.com\n",
       "2        6  2013-11-15T08:01:12   www.google.com\n",
       "3        6  2013-11-15T08:01:16  apis.google.com\n",
       "4        6  2013-11-15T08:01:17   www.google.com"
      ]
     },
     "execution_count": 3,
     "metadata": {},
     "output_type": "execute_result"
    }
   ],
   "source": [
    "data = pd.read_csv('capstone_websites_data/150users/user0006.csv', names=['user_id', 'time' ,'sites'])\n",
    "data.head()"
   ]
  },
  {
   "cell_type": "markdown",
   "metadata": {},
   "source": [
    "As we can see, nothing but the time of visit and visited sites we have. This is very little for building the model. What can we do here? \n",
    "\n",
    "I think each of us has our own habits, not only in life but also in the behavior of the Internet. Someone in the morning, loves to read wall in facebook while drinking his morning coffee, someone reads the news, and someone just listens to music from your favorite streaming service.\n",
    "\n",
    "Let us look for such regularities in the behavior of each user, they will help us in future to identify a user when we see some behavior, but still do not know who owns this behavior. More specific, we will classify user's session from 10 consecutively visited sites. Object in this task, you will session of the 10 sites visited sequentially by the same user and features – indexes of these 10 sites (later there will be a \"bag\" of sites, the approach Bag of Words). The target class is the user id."
   ]
  },
  {
   "cell_type": "markdown",
   "metadata": {},
   "source": [
    "** To accelerate further process of generating and building new features, build a frequency dictionary of sites. {'site_string': (site_id, site_freq)}.** \n",
    "\n",
    "**It should look like:  {'vk.com': (1, 2), 'google.com': (2, 2), 'yandex.ru': (3, 3), 'facebook.com': (4, 1)} **"
   ]
  },
  {
   "cell_type": "code",
   "execution_count": 4,
   "metadata": {
    "ExecuteTime": {
     "end_time": "2017-02-08T13:06:18.595326",
     "start_time": "2017-02-08T13:06:18.573179"
    },
    "collapsed": true
   },
   "outputs": [],
   "source": [
    "def build_site_freq(csv_files_mask):\n",
    "    # sites visiting frequency\n",
    "    freq_dict = defaultdict(int)\n",
    "    # site index in dictionary\n",
    "    site_idx = 0\n",
    "    \n",
    "    for file_name in sorted(glob(csv_files_mask)):\n",
    "        \n",
    "        data = pd.read_csv(file_name, names=['user_id', 'date', 'site'])\n",
    "\n",
    "        # count site frequencies, build companies index\n",
    "        for id, row in enumerate(data_slice.iterrows()):\n",
    "            site_name = row[1].get('site')\n",
    "            if freq_dict[site_name]:\n",
    "                freq_dict[site_name][1] += 1\n",
    "            else:\n",
    "                site_idx += 1\n",
    "                freq_dict[site_name] = [site_idx, 1]\n",
    "\n",
    "    return freq_dict"
   ]
  },
  {
   "cell_type": "code",
   "execution_count": 5,
   "metadata": {
    "ExecuteTime": {
     "end_time": "2017-02-08T13:22:23.616606",
     "start_time": "2017-02-08T13:22:23.611520"
    },
    "collapsed": false
   },
   "outputs": [],
   "source": [
    "site_freq_150users = prepare_train_set('capstone_websites_data/150users/*')  "
   ]
  },
  {
   "cell_type": "code",
   "execution_count": 6,
   "metadata": {
    "ExecuteTime": {
     "end_time": "2017-02-08T13:22:28.980342",
     "start_time": "2017-02-08T13:22:28.976142"
    },
    "collapsed": true
   },
   "outputs": [],
   "source": [
    "with open('capstone_websites_data/site_freq_150users.pkl', 'wb') as site_freq_150users_pkl:\n",
    "    pickle.dump(site_freq_150users, site_freq_150users_pkl)"
   ]
  },
  {
   "cell_type": "markdown",
   "metadata": {},
   "source": [
    "**Implement the function – *prepare_train_set_with_fe*, (from the \"feature engineering\"), which will create the following 13 features:**\n",
    "- time_diff1, ..., time_diff9 – periods between visits 1 and site 2, ..., 9 and 10 of the site in the session (in seconds). \n",
    "- session_timespan – duration of the session. Due to the fact that the sites are not strictly time ordered, the duration of the session will consider the difference between the maximum and minimum time in the session (in seconds).\n",
    "- #unique_sites – the number of unique sites in the session \n",
    "- start_hour hour of the start of the session (that is, the hour in entry the minimum timestamp among the ten)\n",
    "- day_of_week – day of week (i.e. day of the week records the minimum timestamp among the ten)\n",
    "\n",
    "The function should return a new DataFrame. The order in which you add features: *site1*, ... *site10*, *time_diff1*, ..., *time_diff9*, *session_timespan*, *#unique_sites*, *start_hour*,*day_of_week*,*target* (this can be seen just below on how the function is called)"
   ]
  },
  {
   "cell_type": "code",
   "execution_count": 8,
   "metadata": {
    "ExecuteTime": {
     "end_time": "2017-02-08T13:26:08.472575",
     "start_time": "2017-02-08T13:26:08.370202"
    },
    "collapsed": true
   },
   "outputs": [],
   "source": [
    "def time_diff(data):\n",
    "    FMT = '%Y-%m-%dT%H:%M:%S'\n",
    "    data_start_idx = data.index.values[:1][0]\n",
    "    ts_min, ts_max = dttime.strptime(data.ix[data_start_idx]['date'], FMT), dttime.strptime(data.ix[data_start_idx]['date'], FMT)\n",
    "    d_len = len(data.index)-1\n",
    "    st_diff = []\n",
    "    for idx in xrange(d_len):\n",
    "        next_st = dttime.strptime(data.ix[data_start_idx+idx+1]['date'], FMT)\n",
    "        present_st = dttime.strptime(data.ix[data_start_idx+idx]['date'], FMT)\n",
    "        tdelta = next_st - present_st\n",
    "        st_diff.append(tdelta.seconds)\n",
    "\n",
    "        if next_st > ts_max:\n",
    "            ts_max = next_st\n",
    "        elif next_st < ts_min:\n",
    "            ts_min = next_st\n",
    "\n",
    "    if len(st_diff) == 0:\n",
    "        st_diff = [0]\n",
    "\n",
    "    return {\"day_of_week\": 1+ts_min.weekday(), \"start_hour\": ts_min.hour, \"timespan\": (ts_max - ts_min).seconds, \"time_diff\": st_diff}\n",
    "\n",
    "def prepare_train_set_with_fe(csv_files_mask, site_freq_path, feature_names, session_length=10, window_size=1):\n",
    "    # user sessions matrix\n",
    "    user_session = []\n",
    "\n",
    "    features_len = len(feature_names)\n",
    "\n",
    "    if window_size == 1:\n",
    "        window_size = session_length\n",
    "\n",
    "    with open(site_freq_path, 'rb') as XX_pkl:\n",
    "        freq_dict = pickle.load(XX_pkl)\n",
    "\n",
    "    for file_name in sorted(glob(csv_files_mask)):\n",
    "\n",
    "        data = pd.read_csv(file_name, names=['user_id', 'date', 'site'])\n",
    "        user_id = data['user_id'][0]\n",
    "\n",
    "        end_idx = session_length\n",
    "        rows_count = data.shape[0]\n",
    "\n",
    "        for start_idx in xrange(0, rows_count, window_size):\n",
    "            if end_idx >= rows_count:\n",
    "                data_slice = data[start_idx:rows_count]\n",
    "            else:\n",
    "                data_slice = data[start_idx:end_idx]\n",
    "\n",
    "            if end_idx + window_size > rows_count:\n",
    "                end_idx = rows_count\n",
    "            else:\n",
    "                end_idx += window_size\n",
    "\n",
    "            # build session row\n",
    "            session = np.zeros(features_len, dtype=np.int32)\n",
    "            data_slice_len = len(data_slice)\n",
    "            tm_diff = time_diff(data_slice)\n",
    "\n",
    "            # session ids\n",
    "            session[0:data_slice_len] = [freq_dict[site][0] for site in data_slice['site'].values.tolist()]\n",
    "            # time diff\n",
    "            session[10:10 + len(tm_diff[\"time_diff\"])] = tm_diff[\"time_diff\"]\n",
    "            # timespan\n",
    "            session[features_len - 5] = tm_diff[\"timespan\"]\n",
    "            # uniques\n",
    "            session[features_len - 4] = len(data_slice['site'].unique())\n",
    "            # start_hour\n",
    "            session[features_len - 3] = tm_diff[\"start_hour\"]\n",
    "            # day_of_week\n",
    "            session[features_len - 2] = tm_diff[\"day_of_week\"]\n",
    "            # target\n",
    "            session[features_len - 1] = user_id\n",
    "\n",
    "            user_session.append(session.tolist())\n",
    "\n",
    "    return pd.DataFrame(data=user_session, columns=feature_names)"
   ]
  },
  {
   "cell_type": "markdown",
   "metadata": {},
   "source": [
    "**Apply the function *prepare_train_set_with_fe* data for 150 users, specify session_length=10.**"
   ]
  },
  {
   "cell_type": "code",
   "execution_count": 9,
   "metadata": {
    "ExecuteTime": {
     "end_time": "2017-02-08T13:35:53.714210",
     "start_time": "2017-02-08T13:26:14.860766"
    },
    "collapsed": false
   },
   "outputs": [],
   "source": [
    "feature_names = ['site' + str(i) for i in range(1,11)] + \\\n",
    "                ['time_diff' + str(j) for j in range(1,10)] + \\\n",
    "                ['session_timespan', '#unique_sites', 'start_hour', 'day_of_week', 'target']\n",
    "        \n",
    "train_data_150users = prepare_train_set_with_fe('capstone_websites_data/150users/*', \n",
    "                                   site_freq_path='capstone_websites_data/site_freq_150users.pkl',\n",
    "                                   feature_names=feature_names, session_length=10)"
   ]
  },
  {
   "cell_type": "code",
   "execution_count": 139,
   "metadata": {
    "ExecuteTime": {
     "end_time": "2017-02-08T23:02:50.287631",
     "start_time": "2017-02-08T23:02:50.231348"
    },
    "collapsed": false
   },
   "outputs": [
    {
     "data": {
      "text/html": [
       "<div>\n",
       "<table border=\"1\" class=\"dataframe\">\n",
       "  <thead>\n",
       "    <tr style=\"text-align: right;\">\n",
       "      <th></th>\n",
       "      <th>site1</th>\n",
       "      <th>site2</th>\n",
       "      <th>site3</th>\n",
       "      <th>site4</th>\n",
       "      <th>site5</th>\n",
       "      <th>site6</th>\n",
       "      <th>site7</th>\n",
       "      <th>site8</th>\n",
       "      <th>site9</th>\n",
       "      <th>site10</th>\n",
       "      <th>time_diff1</th>\n",
       "      <th>time_diff2</th>\n",
       "      <th>time_diff3</th>\n",
       "      <th>time_diff4</th>\n",
       "      <th>time_diff5</th>\n",
       "      <th>time_diff6</th>\n",
       "      <th>time_diff7</th>\n",
       "      <th>time_diff8</th>\n",
       "      <th>time_diff9</th>\n",
       "      <th>session_timespan</th>\n",
       "      <th>#unique_sites</th>\n",
       "      <th>start_hour</th>\n",
       "      <th>day_of_week</th>\n",
       "      <th>target</th>\n",
       "    </tr>\n",
       "  </thead>\n",
       "  <tbody>\n",
       "    <tr>\n",
       "      <th>0</th>\n",
       "      <td>1</td>\n",
       "      <td>2</td>\n",
       "      <td>3</td>\n",
       "      <td>2</td>\n",
       "      <td>3</td>\n",
       "      <td>1</td>\n",
       "      <td>4</td>\n",
       "      <td>5</td>\n",
       "      <td>6</td>\n",
       "      <td>6</td>\n",
       "      <td>1</td>\n",
       "      <td>1</td>\n",
       "      <td>4</td>\n",
       "      <td>1</td>\n",
       "      <td>0</td>\n",
       "      <td>159</td>\n",
       "      <td>0</td>\n",
       "      <td>1504</td>\n",
       "      <td>4</td>\n",
       "      <td>1674</td>\n",
       "      <td>6</td>\n",
       "      <td>8</td>\n",
       "      <td>5</td>\n",
       "      <td>6</td>\n",
       "    </tr>\n",
       "    <tr>\n",
       "      <th>1</th>\n",
       "      <td>1</td>\n",
       "      <td>1</td>\n",
       "      <td>4</td>\n",
       "      <td>1</td>\n",
       "      <td>1</td>\n",
       "      <td>1</td>\n",
       "      <td>7</td>\n",
       "      <td>1</td>\n",
       "      <td>1</td>\n",
       "      <td>1</td>\n",
       "      <td>21</td>\n",
       "      <td>56</td>\n",
       "      <td>1921</td>\n",
       "      <td>18</td>\n",
       "      <td>1999</td>\n",
       "      <td>6</td>\n",
       "      <td>0</td>\n",
       "      <td>3</td>\n",
       "      <td>4</td>\n",
       "      <td>4028</td>\n",
       "      <td>3</td>\n",
       "      <td>8</td>\n",
       "      <td>5</td>\n",
       "      <td>6</td>\n",
       "    </tr>\n",
       "    <tr>\n",
       "      <th>2</th>\n",
       "      <td>8</td>\n",
       "      <td>1</td>\n",
       "      <td>9</td>\n",
       "      <td>10</td>\n",
       "      <td>9</td>\n",
       "      <td>10</td>\n",
       "      <td>11</td>\n",
       "      <td>8</td>\n",
       "      <td>9</td>\n",
       "      <td>10</td>\n",
       "      <td>0</td>\n",
       "      <td>1</td>\n",
       "      <td>0</td>\n",
       "      <td>1</td>\n",
       "      <td>0</td>\n",
       "      <td>1</td>\n",
       "      <td>0</td>\n",
       "      <td>0</td>\n",
       "      <td>0</td>\n",
       "      <td>3</td>\n",
       "      <td>5</td>\n",
       "      <td>9</td>\n",
       "      <td>5</td>\n",
       "      <td>6</td>\n",
       "    </tr>\n",
       "    <tr>\n",
       "      <th>3</th>\n",
       "      <td>12</td>\n",
       "      <td>13</td>\n",
       "      <td>8</td>\n",
       "      <td>9</td>\n",
       "      <td>12</td>\n",
       "      <td>13</td>\n",
       "      <td>11</td>\n",
       "      <td>8</td>\n",
       "      <td>9</td>\n",
       "      <td>10</td>\n",
       "      <td>0</td>\n",
       "      <td>0</td>\n",
       "      <td>0</td>\n",
       "      <td>1</td>\n",
       "      <td>0</td>\n",
       "      <td>0</td>\n",
       "      <td>0</td>\n",
       "      <td>0</td>\n",
       "      <td>0</td>\n",
       "      <td>1</td>\n",
       "      <td>6</td>\n",
       "      <td>9</td>\n",
       "      <td>5</td>\n",
       "      <td>6</td>\n",
       "    </tr>\n",
       "    <tr>\n",
       "      <th>4</th>\n",
       "      <td>10</td>\n",
       "      <td>12</td>\n",
       "      <td>8</td>\n",
       "      <td>11</td>\n",
       "      <td>9</td>\n",
       "      <td>13</td>\n",
       "      <td>13</td>\n",
       "      <td>12</td>\n",
       "      <td>8</td>\n",
       "      <td>11</td>\n",
       "      <td>0</td>\n",
       "      <td>0</td>\n",
       "      <td>0</td>\n",
       "      <td>0</td>\n",
       "      <td>0</td>\n",
       "      <td>1</td>\n",
       "      <td>0</td>\n",
       "      <td>0</td>\n",
       "      <td>0</td>\n",
       "      <td>1</td>\n",
       "      <td>6</td>\n",
       "      <td>9</td>\n",
       "      <td>5</td>\n",
       "      <td>6</td>\n",
       "    </tr>\n",
       "  </tbody>\n",
       "</table>\n",
       "</div>"
      ],
      "text/plain": [
       "   site1  site2  site3  site4  site5  site6  site7  site8  site9  site10  \\\n",
       "0      1      2      3      2      3      1      4      5      6       6   \n",
       "1      1      1      4      1      1      1      7      1      1       1   \n",
       "2      8      1      9     10      9     10     11      8      9      10   \n",
       "3     12     13      8      9     12     13     11      8      9      10   \n",
       "4     10     12      8     11      9     13     13     12      8      11   \n",
       "\n",
       "   time_diff1  time_diff2  time_diff3  time_diff4  time_diff5  time_diff6  \\\n",
       "0           1           1           4           1           0         159   \n",
       "1          21          56        1921          18        1999           6   \n",
       "2           0           1           0           1           0           1   \n",
       "3           0           0           0           1           0           0   \n",
       "4           0           0           0           0           0           1   \n",
       "\n",
       "   time_diff7  time_diff8  time_diff9  session_timespan  #unique_sites  \\\n",
       "0           0        1504           4              1674              6   \n",
       "1           0           3           4              4028              3   \n",
       "2           0           0           0                 3              5   \n",
       "3           0           0           0                 1              6   \n",
       "4           0           0           0                 1              6   \n",
       "\n",
       "   start_hour  day_of_week  target  \n",
       "0           8            5       6  \n",
       "1           8            5       6  \n",
       "2           9            5       6  \n",
       "3           9            5       6  \n",
       "4           9            5       6  "
      ]
     },
     "execution_count": 139,
     "metadata": {},
     "output_type": "execute_result"
    }
   ],
   "source": [
    "train_data_150users.head()"
   ]
  },
  {
   "cell_type": "markdown",
   "metadata": {},
   "source": [
    "**If we look carefully, features site1, ..., site10 does not make sense as features in a classification problem. But if we use the idea of bag-of-words from analysis of text is another matter. Let's create a new matrix in which rows correspond to sessions of the 10 sites, and the columns – the indices of the sites. At the intersection of row $i$ and column $j$ will be the number $n_{ij}$ is the number of times the site $j$ found in session room $i$. We will do this using sparse matrices Scipy – [csr_matrix](https://docs.scipy.org/doc/scipy-0.14.0/reference/generated/scipy.sparse.csr_matrix.html). **"
   ]
  },
  {
   "cell_type": "markdown",
   "metadata": {},
   "source": [
    "**Create a method that translates data on visits to websites in a bag sites**"
   ]
  },
  {
   "cell_type": "code",
   "execution_count": 11,
   "metadata": {
    "ExecuteTime": {
     "end_time": "2017-02-08T13:41:58.514428",
     "start_time": "2017-02-08T13:41:58.505286"
    },
    "collapsed": true
   },
   "outputs": [],
   "source": [
    "def getSparseMatrix(data):    \n",
    "    n_data, rows, cols  = [], [], []\n",
    "    for row in data.iterrows():\n",
    "        counter = Counter(row[1])\n",
    "        for itm in counter.items():\n",
    "            if itm[0] != 0:\n",
    "                rows.append(row[0])\n",
    "                n_data.append(itm[1])\n",
    "                cols.append(itm[0] - 1)\n",
    "    return n_data, rows, cols"
   ]
  },
  {
   "cell_type": "code",
   "execution_count": 186,
   "metadata": {
    "ExecuteTime": {
     "end_time": "2017-02-09T00:02:11.854432",
     "start_time": "2017-02-09T00:02:11.847453"
    },
    "collapsed": false
   },
   "outputs": [],
   "source": [
    "X_150users, y_150users = train_data_150users.iloc[:, :-1], train_data_150users.iloc[:, -1]"
   ]
  },
  {
   "cell_type": "code",
   "execution_count": 157,
   "metadata": {
    "ExecuteTime": {
     "end_time": "2017-02-08T23:48:23.425620",
     "start_time": "2017-02-08T23:48:23.364272"
    },
    "collapsed": false
   },
   "outputs": [
    {
     "data": {
      "text/html": [
       "<div>\n",
       "<table border=\"1\" class=\"dataframe\">\n",
       "  <thead>\n",
       "    <tr style=\"text-align: right;\">\n",
       "      <th></th>\n",
       "      <th>site1</th>\n",
       "      <th>site2</th>\n",
       "      <th>site3</th>\n",
       "      <th>site4</th>\n",
       "      <th>site5</th>\n",
       "      <th>site6</th>\n",
       "      <th>site7</th>\n",
       "      <th>site8</th>\n",
       "      <th>site9</th>\n",
       "      <th>site10</th>\n",
       "      <th>time_diff1</th>\n",
       "      <th>time_diff2</th>\n",
       "      <th>time_diff3</th>\n",
       "      <th>time_diff4</th>\n",
       "      <th>time_diff5</th>\n",
       "      <th>time_diff6</th>\n",
       "      <th>time_diff7</th>\n",
       "      <th>time_diff8</th>\n",
       "      <th>time_diff9</th>\n",
       "      <th>session_timespan</th>\n",
       "      <th>#unique_sites</th>\n",
       "      <th>start_hour</th>\n",
       "      <th>day_of_week</th>\n",
       "    </tr>\n",
       "  </thead>\n",
       "  <tbody>\n",
       "    <tr>\n",
       "      <th>0</th>\n",
       "      <td>1</td>\n",
       "      <td>2</td>\n",
       "      <td>3</td>\n",
       "      <td>2</td>\n",
       "      <td>3</td>\n",
       "      <td>1</td>\n",
       "      <td>4</td>\n",
       "      <td>5</td>\n",
       "      <td>6</td>\n",
       "      <td>6</td>\n",
       "      <td>1</td>\n",
       "      <td>1</td>\n",
       "      <td>4</td>\n",
       "      <td>1</td>\n",
       "      <td>0</td>\n",
       "      <td>159</td>\n",
       "      <td>0</td>\n",
       "      <td>1504</td>\n",
       "      <td>4</td>\n",
       "      <td>1674</td>\n",
       "      <td>6</td>\n",
       "      <td>8</td>\n",
       "      <td>5</td>\n",
       "    </tr>\n",
       "    <tr>\n",
       "      <th>1</th>\n",
       "      <td>1</td>\n",
       "      <td>1</td>\n",
       "      <td>4</td>\n",
       "      <td>1</td>\n",
       "      <td>1</td>\n",
       "      <td>1</td>\n",
       "      <td>7</td>\n",
       "      <td>1</td>\n",
       "      <td>1</td>\n",
       "      <td>1</td>\n",
       "      <td>21</td>\n",
       "      <td>56</td>\n",
       "      <td>1921</td>\n",
       "      <td>18</td>\n",
       "      <td>1999</td>\n",
       "      <td>6</td>\n",
       "      <td>0</td>\n",
       "      <td>3</td>\n",
       "      <td>4</td>\n",
       "      <td>4028</td>\n",
       "      <td>3</td>\n",
       "      <td>8</td>\n",
       "      <td>5</td>\n",
       "    </tr>\n",
       "    <tr>\n",
       "      <th>2</th>\n",
       "      <td>8</td>\n",
       "      <td>1</td>\n",
       "      <td>9</td>\n",
       "      <td>10</td>\n",
       "      <td>9</td>\n",
       "      <td>10</td>\n",
       "      <td>11</td>\n",
       "      <td>8</td>\n",
       "      <td>9</td>\n",
       "      <td>10</td>\n",
       "      <td>0</td>\n",
       "      <td>1</td>\n",
       "      <td>0</td>\n",
       "      <td>1</td>\n",
       "      <td>0</td>\n",
       "      <td>1</td>\n",
       "      <td>0</td>\n",
       "      <td>0</td>\n",
       "      <td>0</td>\n",
       "      <td>3</td>\n",
       "      <td>5</td>\n",
       "      <td>9</td>\n",
       "      <td>5</td>\n",
       "    </tr>\n",
       "    <tr>\n",
       "      <th>3</th>\n",
       "      <td>12</td>\n",
       "      <td>13</td>\n",
       "      <td>8</td>\n",
       "      <td>9</td>\n",
       "      <td>12</td>\n",
       "      <td>13</td>\n",
       "      <td>11</td>\n",
       "      <td>8</td>\n",
       "      <td>9</td>\n",
       "      <td>10</td>\n",
       "      <td>0</td>\n",
       "      <td>0</td>\n",
       "      <td>0</td>\n",
       "      <td>1</td>\n",
       "      <td>0</td>\n",
       "      <td>0</td>\n",
       "      <td>0</td>\n",
       "      <td>0</td>\n",
       "      <td>0</td>\n",
       "      <td>1</td>\n",
       "      <td>6</td>\n",
       "      <td>9</td>\n",
       "      <td>5</td>\n",
       "    </tr>\n",
       "    <tr>\n",
       "      <th>4</th>\n",
       "      <td>10</td>\n",
       "      <td>12</td>\n",
       "      <td>8</td>\n",
       "      <td>11</td>\n",
       "      <td>9</td>\n",
       "      <td>13</td>\n",
       "      <td>13</td>\n",
       "      <td>12</td>\n",
       "      <td>8</td>\n",
       "      <td>11</td>\n",
       "      <td>0</td>\n",
       "      <td>0</td>\n",
       "      <td>0</td>\n",
       "      <td>0</td>\n",
       "      <td>0</td>\n",
       "      <td>1</td>\n",
       "      <td>0</td>\n",
       "      <td>0</td>\n",
       "      <td>0</td>\n",
       "      <td>1</td>\n",
       "      <td>6</td>\n",
       "      <td>9</td>\n",
       "      <td>5</td>\n",
       "    </tr>\n",
       "  </tbody>\n",
       "</table>\n",
       "</div>"
      ],
      "text/plain": [
       "   site1  site2  site3  site4  site5  site6  site7  site8  site9  site10  \\\n",
       "0      1      2      3      2      3      1      4      5      6       6   \n",
       "1      1      1      4      1      1      1      7      1      1       1   \n",
       "2      8      1      9     10      9     10     11      8      9      10   \n",
       "3     12     13      8      9     12     13     11      8      9      10   \n",
       "4     10     12      8     11      9     13     13     12      8      11   \n",
       "\n",
       "   time_diff1  time_diff2  time_diff3  time_diff4  time_diff5  time_diff6  \\\n",
       "0           1           1           4           1           0         159   \n",
       "1          21          56        1921          18        1999           6   \n",
       "2           0           1           0           1           0           1   \n",
       "3           0           0           0           1           0           0   \n",
       "4           0           0           0           0           0           1   \n",
       "\n",
       "   time_diff7  time_diff8  time_diff9  session_timespan  #unique_sites  \\\n",
       "0           0        1504           4              1674              6   \n",
       "1           0           3           4              4028              3   \n",
       "2           0           0           0                 3              5   \n",
       "3           0           0           0                 1              6   \n",
       "4           0           0           0                 1              6   \n",
       "\n",
       "   start_hour  day_of_week  \n",
       "0           8            5  \n",
       "1           8            5  \n",
       "2           9            5  \n",
       "3           9            5  \n",
       "4           9            5  "
      ]
     },
     "execution_count": 157,
     "metadata": {},
     "output_type": "execute_result"
    }
   ],
   "source": [
    "X_150users.head()"
   ]
  },
  {
   "cell_type": "code",
   "execution_count": 23,
   "metadata": {
    "ExecuteTime": {
     "end_time": "2017-02-08T13:46:40.888871",
     "start_time": "2017-02-08T13:46:29.279549"
    },
    "collapsed": false
   },
   "outputs": [],
   "source": [
    "drc = getSparseMatrix(X_150users[['site' + str(i) for i in range(1,11)]])\n",
    "X_sparse_150users = csr_matrix((drc[0],(drc[1],drc[2])), shape=(np.shape(X_150users)[0], len(site_freq_150users)), dtype=int)"
   ]
  },
  {
   "cell_type": "code",
   "execution_count": 15,
   "metadata": {
    "ExecuteTime": {
     "end_time": "2017-01-19T00:32:33.433068",
     "start_time": "2017-01-19T00:32:33.122674"
    },
    "collapsed": true
   },
   "outputs": [],
   "source": [
    "with open('capstone_websites_data/X_sparse_150users.pkl', 'wb') as X150_pkl:\n",
    "    pickle.dump(X_sparse_150users, X150_pkl)"
   ]
  },
  {
   "cell_type": "markdown",
   "metadata": {},
   "source": [
    "## 2. Visual analysis of data"
   ]
  },
  {
   "cell_type": "markdown",
   "metadata": {},
   "source": [
    "Visual analysis we need in order to visually assess the change indication of different users. If all users of any feature is changed slightly or not changed at all - we assume such a feature is weak, as it does not carry any signal, which will help us to distinguish users from each other."
   ]
  },
  {
   "cell_type": "markdown",
   "metadata": {},
   "source": [
    "**Choose 10 users to analyze**"
   ]
  },
  {
   "cell_type": "code",
   "execution_count": 24,
   "metadata": {
    "ExecuteTime": {
     "end_time": "2017-02-08T13:47:05.438038",
     "start_time": "2017-02-08T13:47:05.249695"
    },
    "collapsed": false
   },
   "outputs": [],
   "source": [
    "id_name_dict = {128: 'Mary-Kate', 39: 'Ashley', 207: 'Lindsey', 127: 'Naomi', 237: 'Avril',\n",
    "               33: 'Bob', 50: 'Bill', 31: 'John', 100: 'Dick', 241: 'Ed'}\n",
    "\n",
    "train_data_10users = train_data_150users[(train_data_150users.target == 128) |\n",
    "                                        (train_data_150users.target == 39) |\n",
    "                                        (train_data_150users.target == 207) |\n",
    "                                        (train_data_150users.target == 127) |\n",
    "                                        (train_data_150users.target == 33) |\n",
    "                                        (train_data_150users.target == 50) |\n",
    "                                        (train_data_150users.target == 31) |\n",
    "                                        (train_data_150users.target == 100) |\n",
    "                                        (train_data_150users.target == 241) |\n",
    "                                        (train_data_150users.target == 237)]\n",
    "\n",
    "train_data_10users['target'] = train_data_10users['target'].map(id_name_dict)"
   ]
  },
  {
   "cell_type": "code",
   "execution_count": 25,
   "metadata": {
    "ExecuteTime": {
     "end_time": "2017-02-08T13:47:07.004238",
     "start_time": "2017-02-08T13:47:06.997846"
    },
    "collapsed": true
   },
   "outputs": [],
   "source": [
    "color_dic = {'Mary-Kate': 'pink', 'Ashley': 'darkviolet', 'Lindsey':'blueviolet', \n",
    "             'Naomi': 'hotpink', 'Avril': 'orchid', \n",
    "             'Bob': 'firebrick', 'Bill': 'gold', 'John': 'forestgreen', \n",
    "             'Dick': 'slategrey', 'Ed':'brown'}"
   ]
  },
  {
   "cell_type": "markdown",
   "metadata": {},
   "source": [
    "**1. Build the histogram of session length in seconds (*session_timespan*). The limit *x* a value of 200 (otherwise we get too heavy in the tail).**"
   ]
  },
  {
   "cell_type": "code",
   "execution_count": 27,
   "metadata": {
    "ExecuteTime": {
     "end_time": "2017-02-08T13:52:15.489989",
     "start_time": "2017-02-08T13:52:15.103747"
    },
    "collapsed": false
   },
   "outputs": [
    {
     "data": {
      "text/plain": [
       "<matplotlib.text.Text at 0x7fa2f9082a50>"
      ]
     },
     "execution_count": 27,
     "metadata": {},
     "output_type": "execute_result"
    },
    {
     "data": {
      "image/png": "[encoded data removed]",
      "text/plain": [
       "<matplotlib.figure.Figure at 0x7fa2f90b6590>"
      ]
     },
     "metadata": {},
     "output_type": "display_data"
    }
   ],
   "source": [
    "s = train_data_10users['session_timespan']\n",
    "ax = s[s < 200].plot(kind='hist', color='darkviolet', legend=True)\n",
    "ax.set_ylabel(\"Number of sessions\")\n",
    "ax.set_xlabel(\"Session length(s)\")"
   ]
  },
  {
   "cell_type": "markdown",
   "metadata": {},
   "source": [
    "As the graph shows, the distribution of the lengths of user sessions sloping to the right, dominated by short sessions. This uneven distribution tells us that the sign of the \"Long session\" will be useful when building the model."
   ]
  },
  {
   "cell_type": "markdown",
   "metadata": {},
   "source": [
    "**2. Build a histogram of distribution of the number of unique sites in the session(*#unique_sites*).**"
   ]
  },
  {
   "cell_type": "code",
   "execution_count": 28,
   "metadata": {
    "ExecuteTime": {
     "end_time": "2017-02-08T13:56:16.844975",
     "start_time": "2017-02-08T13:56:16.442975"
    },
    "collapsed": false
   },
   "outputs": [
    {
     "data": {
      "text/plain": [
       "<matplotlib.text.Text at 0x7fa2fa6a9b50>"
      ]
     },
     "execution_count": 28,
     "metadata": {},
     "output_type": "execute_result"
    },
    {
     "data": {
      "image/png": "[encoded data removed]",
      "text/plain": [
       "<matplotlib.figure.Figure at 0x7fa2fbdb6a50>"
      ]
     },
     "metadata": {},
     "output_type": "display_data"
    }
   ],
   "source": [
    "ax = train_data_10users['#unique_sites'].plot(kind='hist', color='aqua', legend=True)\n",
    "ax.set_ylabel(\"Visits frequency\")\n",
    "ax.set_xlabel(\"Number of unique sites in session\")"
   ]
  },
  {
   "cell_type": "markdown",
   "metadata": {},
   "source": [
    "The distribution of the number of unique sites in the session almost even with the average in point 5-6. \"The number of unique sites in session\" will also be useful when building the model"
   ]
  },
  {
   "cell_type": "markdown",
   "metadata": {},
   "source": [
    "**3. Build a histogram of the distribution of the number of unique sites in the session (*#unique_sites*) for each of the 10 users separately. **"
   ]
  },
  {
   "cell_type": "code",
   "execution_count": 29,
   "metadata": {
    "ExecuteTime": {
     "end_time": "2017-02-08T13:57:39.421750",
     "start_time": "2017-02-08T13:57:36.848503"
    },
    "collapsed": false
   },
   "outputs": [
    {
     "data": {
      "image/png": "[encoded data removed]",
      "text/plain": [
       "<matplotlib.figure.Figure at 0x7fa2faa90e50>"
      ]
     },
     "metadata": {},
     "output_type": "display_data"
    }
   ],
   "source": [
    "fig, axes = plt.subplots(nrows=3, ncols=4, figsize=(16, 10))\n",
    "\n",
    "for idx, (user, sub_df) in  enumerate(pd.groupby(train_data_10users, 'target')):\n",
    "    ax = sub_df['#unique_sites'].plot(subplots=True, kind=\"hist\", color=color_dic[user], ax=axes[idx/4, idx%4])\n",
    "    ax[0].legend(labels=[user])\n",
    "    ax[0].set_ylabel(\"Visits frequency\")\n",
    "    ax[0].set_xlabel(\"Number of unique sites in session\")\n",
    "\n",
    "fig.tight_layout()"
   ]
  },
  {
   "cell_type": "markdown",
   "metadata": {},
   "source": [
    "As we can see from the graphs the seven distributions of the number of unique site in the session is very similar, but three users - Ashley, Dick, Mary-Kate have two favorite website and often visit them. Feature \"Number of unique sites in the session\" I also find it useful when building the model."
   ]
  },
  {
   "cell_type": "markdown",
   "metadata": {},
   "source": [
    "**4. Build a histogram of the distribution of start hour of the session (*start_hour*).**"
   ]
  },
  {
   "cell_type": "code",
   "execution_count": 30,
   "metadata": {
    "ExecuteTime": {
     "end_time": "2017-02-08T13:59:44.927261",
     "start_time": "2017-02-08T13:59:44.521989"
    },
    "collapsed": false
   },
   "outputs": [
    {
     "data": {
      "text/plain": [
       "<matplotlib.text.Text at 0x7fa2f6968c90>"
      ]
     },
     "execution_count": 30,
     "metadata": {},
     "output_type": "execute_result"
    },
    {
     "data": {
      "image/png": "[encoded data removed]",
      "text/plain": [
       "<matplotlib.figure.Figure at 0x7fa2f99c6450>"
      ]
     },
     "metadata": {},
     "output_type": "display_data"
    }
   ],
   "source": [
    "ax = train_data_10users['start_hour'].plot(kind='hist', color='darkgreen', legend=True)\n",
    "ax.set_ylabel(\"Frequency\")\n",
    "ax.set_xlabel(\"Start time of visiting\")"
   ]
  },
  {
   "cell_type": "markdown",
   "metadata": {},
   "source": [
    "**5. Build a histogram of the distribution of start hour of users session (*start_hour*) for each of the 10 users separately.**"
   ]
  },
  {
   "cell_type": "code",
   "execution_count": 31,
   "metadata": {
    "ExecuteTime": {
     "end_time": "2017-02-08T14:01:16.239388",
     "start_time": "2017-02-08T14:01:13.508979"
    },
    "collapsed": false
   },
   "outputs": [
    {
     "data": {
      "image/png": "[encoded data removed]",
      "text/plain": [
       "<matplotlib.figure.Figure at 0x7fa2f999a750>"
      ]
     },
     "metadata": {},
     "output_type": "display_data"
    }
   ],
   "source": [
    "fig, axes = plt.subplots(nrows=3, ncols=4, figsize=(16, 10))\n",
    "\n",
    "for idx, (user, sub_df) in  enumerate(pd.groupby(train_data_10users, 'target')):\n",
    "    ax = sub_df['start_hour'].plot(subplots=True, kind=\"hist\", color=color_dic[user], ax=axes[idx/4, idx%4])\n",
    "    ax[0].legend(labels=[user])\n",
    "    ax[0].set_ylabel(\"Frequency\")\n",
    "    ax[0].set_xlabel(\"Start time of visiting\")\n",
    "\n",
    "fig.tight_layout()"
   ]
  },
  {
   "cell_type": "markdown",
   "metadata": {},
   "source": [
    "As we can see, start time distribution in the session for each user is different. Maybe it depends on the pace of life, habits and age. The majority of visits occur during lunch time, which would mean that these users are the employees of the office and actively use the Internet while lunch break."
   ]
  },
  {
   "cell_type": "markdown",
   "metadata": {},
   "source": [
    "**6. Build a histogram of the distribution of day of week on which the session began (*day_of_week*).**"
   ]
  },
  {
   "cell_type": "code",
   "execution_count": 34,
   "metadata": {
    "ExecuteTime": {
     "end_time": "2017-02-08T19:18:18.169578",
     "start_time": "2017-02-08T19:18:17.874081"
    },
    "collapsed": false
   },
   "outputs": [
    {
     "data": {
      "text/plain": [
       "<matplotlib.text.Text at 0x7fa2f6721590>"
      ]
     },
     "execution_count": 34,
     "metadata": {},
     "output_type": "execute_result"
    },
    {
     "data": {
      "image/png": "[encoded data removed]",
      "text/plain": [
       "<matplotlib.figure.Figure at 0x7fa2f653c550>"
      ]
     },
     "metadata": {},
     "output_type": "display_data"
    }
   ],
   "source": [
    "ax = train_data_10users['day_of_week'].hist(color='sienna', bins=7)\n",
    "ax.set_ylabel(\"Frequency of visiting\")\n",
    "ax.set_xlabel(\"Day of week(1-Mon, 7-Sun)\")"
   ]
  },
  {
   "cell_type": "markdown",
   "metadata": {},
   "source": [
    "**7. Build a histogram day of week distribution when the session began (day_of_week) for each of the 10 users separately. **"
   ]
  },
  {
   "cell_type": "code",
   "execution_count": 35,
   "metadata": {
    "ExecuteTime": {
     "end_time": "2017-02-08T19:20:16.868367",
     "start_time": "2017-02-08T19:20:14.384892"
    },
    "collapsed": false
   },
   "outputs": [
    {
     "data": {
      "image/png": "[encoded data removed]",
      "text/plain": [
       "<matplotlib.figure.Figure at 0x7fa2f6a77490>"
      ]
     },
     "metadata": {},
     "output_type": "display_data"
    }
   ],
   "source": [
    "fig, axes = plt.subplots(nrows=3, ncols=4, figsize=(16, 10))\n",
    "\n",
    "for idx, (user, sub_df) in  enumerate(pd.groupby(train_data_10users, 'target')):\n",
    "    ax = sub_df['day_of_week'].plot(subplots=True, kind=\"hist\", color=color_dic[user], ax=axes[idx/4, idx%4],\n",
    "                                   bins=7)\n",
    "    ax[0].legend(labels=[user])\n",
    "    ax[0].set_ylabel(\"Frequency\")\n",
    "    ax[0].set_xticklabels(['Mon', 'Tue', 'Wed', 'Thu', 'Fri', 'Sat', 'Sun'])\n",
    "\n",
    "fig.tight_layout()"
   ]
  },
  {
   "cell_type": "markdown",
   "metadata": {},
   "source": [
    "**As we can see the behavior of users differs according to the days of the week.**"
   ]
  },
  {
   "cell_type": "markdown",
   "metadata": {},
   "source": [
    "**Let's take a loot at top 10 most visited websites (*top10_sites*) and the corresponding number of visits (*top10_freqs*).**"
   ]
  },
  {
   "cell_type": "code",
   "execution_count": 37,
   "metadata": {
    "ExecuteTime": {
     "end_time": "2017-02-08T19:22:28.510938",
     "start_time": "2017-02-08T19:22:28.484726"
    },
    "collapsed": false
   },
   "outputs": [
    {
     "data": {
      "text/plain": [
       "['www.google.fr',\n",
       " 'www.google.com',\n",
       " 'www.facebook.com',\n",
       " 'apis.google.com',\n",
       " 's.youtube.com',\n",
       " 'clients1.google.com',\n",
       " 'mail.google.com',\n",
       " 'plus.google.com',\n",
       " 'safebrowsing-cache.google.com',\n",
       " 'www.youtube.com']"
      ]
     },
     "execution_count": 37,
     "metadata": {},
     "output_type": "execute_result"
    }
   ],
   "source": [
    "top_10_sorted = sorted(site_freq_150users.items(), key=lambda x: x[1][1], reverse=True)\n",
    "top10_freqs = [freq[1][1] for freq in top_10_sorted[:10]]\n",
    "top10_sites = [freq[0] for freq in top_10_sorted[:10]]\n",
    "\n",
    "top10_sites"
   ]
  },
  {
   "cell_type": "markdown",
   "metadata": {},
   "source": [
    "**9. Frequencies of visits to the top 10 websites.**"
   ]
  },
  {
   "cell_type": "code",
   "execution_count": 38,
   "metadata": {
    "ExecuteTime": {
     "end_time": "2017-02-08T19:22:30.526732",
     "start_time": "2017-02-08T19:22:30.241656"
    },
    "collapsed": false
   },
   "outputs": [
    {
     "data": {
      "text/plain": [
       "(array([0, 1, 2, 3, 4, 5, 6, 7, 8, 9]), <a list of 10 Text xticklabel objects>)"
      ]
     },
     "execution_count": 38,
     "metadata": {},
     "output_type": "execute_result"
    },
    {
     "data": {
      "image/png": "[encoded data removed]",
      "text/plain": [
       "<matplotlib.figure.Figure at 0x7fa2f478a4d0>"
      ]
     },
     "metadata": {},
     "output_type": "display_data"
    }
   ],
   "source": [
    "ax = sns.barplot(top10_sites, top10_freqs)\n",
    "ax.set(xlabel='Sites visited', ylabel='Frequency')\n",
    "xticks(rotation=90)"
   ]
  },
  {
   "cell_type": "markdown",
   "metadata": {},
   "source": [
    "** Popularity of the sites among users is also different. This again points us to take into account the this feature, which will show how many sites from top popular user visited. **"
   ]
  },
  {
   "cell_type": "markdown",
   "metadata": {},
   "source": [
    "## 3. Build and compare models"
   ]
  },
  {
   "cell_type": "markdown",
   "metadata": {},
   "source": [
    "** Sometimes training of models for 150 users takes huge amount of time, sometimes even more than 24 hours, I decided separate limited 10 users sample and use it for experiments.**"
   ]
  },
  {
   "cell_type": "code",
   "execution_count": 39,
   "metadata": {
    "ExecuteTime": {
     "end_time": "2017-02-08T19:30:32.853860",
     "start_time": "2017-02-08T19:30:32.795679"
    },
    "collapsed": false
   },
   "outputs": [],
   "source": [
    "with open('capstone_websites_data/X_sparse_10users.pkl', 'rb') as X10_pkl:\n",
    "    X_sparse_10users = pickle.load(X10_pkl)\n",
    "with open('capstone_websites_data/y_10users.pkl', 'rb') as y10_pkl:\n",
    "    y_10users = pickle.load(y10_pkl)"
   ]
  },
  {
   "cell_type": "markdown",
   "metadata": {
    "collapsed": true
   },
   "source": [
    "**Divide the sample into 2 parts. One will carry out cross-validation, the second is to evaluate the model trained after cross-validation.**"
   ]
  },
  {
   "cell_type": "code",
   "execution_count": 40,
   "metadata": {
    "ExecuteTime": {
     "end_time": "2017-02-08T19:31:28.055476",
     "start_time": "2017-02-08T19:31:28.026809"
    },
    "collapsed": false
   },
   "outputs": [],
   "source": [
    "X_train, X_valid, y_train, y_valid = train_test_split(X_sparse_10users, y_10users, \n",
    "                                                      test_size=0.3, \n",
    "                                                     random_state=7, stratify=y_10users)"
   ]
  },
  {
   "cell_type": "markdown",
   "metadata": {
    "collapsed": true
   },
   "source": [
    "**Utility function for drawing curves validation after launch of GridSearchCV (or RandomizedCV).**"
   ]
  },
  {
   "cell_type": "code",
   "execution_count": 41,
   "metadata": {
    "ExecuteTime": {
     "end_time": "2017-02-08T19:32:06.292711",
     "start_time": "2017-02-08T19:32:06.280366"
    },
    "collapsed": true
   },
   "outputs": [],
   "source": [
    "def plot_validation_curves(param_values, grid_cv_results_):\n",
    "    train_mu, train_std = grid_cv_results_['mean_train_score'], grid_cv_results_['std_train_score']\n",
    "    valid_mu, valid_std = grid_cv_results_['mean_test_score'], grid_cv_results_['std_test_score']\n",
    "    train_line = plt.plot(param_values, train_mu, '-', label='train', color='green')\n",
    "    valid_line = plt.plot(param_values, valid_mu, '-', label='test', color='red')\n",
    "    plt.fill_between(param_values, train_mu - train_std, train_mu + train_std, edgecolor='none',\n",
    "                     facecolor=train_line[0].get_color(), alpha=0.2)\n",
    "    plt.fill_between(param_values, valid_mu - valid_std, valid_mu + valid_std, edgecolor='none',\n",
    "                     facecolor=valid_line[0].get_color(), alpha=0.2)\n",
    "    plt.legend()"
   ]
  },
  {
   "cell_type": "markdown",
   "metadata": {
    "collapsed": true
   },
   "source": [
    "**1. Train random forest (RandomForestClassifier) of 100 trees. Take a look at the OOB-estimate**"
   ]
  },
  {
   "cell_type": "code",
   "execution_count": 42,
   "metadata": {
    "ExecuteTime": {
     "end_time": "2017-02-08T19:33:49.387743",
     "start_time": "2017-02-08T19:33:49.241018"
    },
    "collapsed": true
   },
   "outputs": [],
   "source": [
    "from sklearn.ensemble import RandomForestClassifier"
   ]
  },
  {
   "cell_type": "code",
   "execution_count": 43,
   "metadata": {
    "ExecuteTime": {
     "end_time": "2017-02-08T19:34:10.639916",
     "start_time": "2017-02-08T19:34:04.294223"
    },
    "collapsed": false
   },
   "outputs": [
    {
     "data": {
      "text/plain": [
       "RandomForestClassifier(bootstrap=True, class_weight=None, criterion='gini',\n",
       "            max_depth=None, max_features='auto', max_leaf_nodes=None,\n",
       "            min_impurity_split=1e-07, min_samples_leaf=1,\n",
       "            min_samples_split=2, min_weight_fraction_leaf=0.0,\n",
       "            n_estimators=100, n_jobs=-1, oob_score=True, random_state=7,\n",
       "            verbose=0, warm_start=False)"
      ]
     },
     "execution_count": 43,
     "metadata": {},
     "output_type": "execute_result"
    }
   ],
   "source": [
    "forest = RandomForestClassifier(n_estimators=100, random_state=7, oob_score=True, n_jobs=-1 )\n",
    "forest.fit(X_train, y_train)"
   ]
  },
  {
   "cell_type": "code",
   "execution_count": 44,
   "metadata": {
    "ExecuteTime": {
     "end_time": "2017-02-08T20:20:56.217373",
     "start_time": "2017-02-08T20:20:55.864475"
    },
    "collapsed": false
   },
   "outputs": [
    {
     "name": "stdout",
     "output_type": "stream",
     "text": [
      "Accuracy score: 0.714150272576\n",
      "OOB score: 0.720077220077\n"
     ]
    }
   ],
   "source": [
    "rf_valid_acc = accuracy_score(y_valid, forest.predict(X_valid))\n",
    "print 'Accuracy score:', rf_valid_acc\n",
    "print 'OOB score:', forest.oob_score_"
   ]
  },
  {
   "cell_type": "markdown",
   "metadata": {
    "collapsed": true
   },
   "source": [
    "**2. Train a logistic regression (LogisticRegression) with default parameter C and random_state=7 (for reproducibility). Look at the proportion of correct answers on cross-validation (use skf created earlier) and sample (X_valid, y_valid). **"
   ]
  },
  {
   "cell_type": "code",
   "execution_count": 45,
   "metadata": {
    "ExecuteTime": {
     "end_time": "2017-02-08T20:22:36.712152",
     "start_time": "2017-02-08T20:22:36.705860"
    },
    "collapsed": true
   },
   "outputs": [],
   "source": [
    "from sklearn.linear_model import LogisticRegression, LogisticRegressionCV\n",
    "\n",
    "skf = StratifiedKFold(n_splits=3, shuffle=True, random_state=7)"
   ]
  },
  {
   "cell_type": "code",
   "execution_count": 46,
   "metadata": {
    "ExecuteTime": {
     "end_time": "2017-02-08T20:22:39.281588",
     "start_time": "2017-02-08T20:22:39.276226"
    },
    "collapsed": true
   },
   "outputs": [],
   "source": [
    "logit = LogisticRegression(random_state=7, n_jobs=-1)"
   ]
  },
  {
   "cell_type": "markdown",
   "metadata": {},
   "source": [
    "Evaluate Logistic Regression on cross-validation and pending sample"
   ]
  },
  {
   "cell_type": "code",
   "execution_count": 47,
   "metadata": {
    "ExecuteTime": {
     "end_time": "2017-02-08T20:23:54.264733",
     "start_time": "2017-02-08T20:23:53.018947"
    },
    "collapsed": false
   },
   "outputs": [
    {
     "name": "stdout",
     "output_type": "stream",
     "text": [
      "Scross-val score  [ 0.75159817  0.75236353  0.75350824]\n",
      "CPU times: user 2.4 s, sys: 20 ms, total: 2.42 s\n",
      "Wall time: 1.24 s\n"
     ]
    }
   ],
   "source": [
    "%%time\n",
    "logit_cv_scores = cross_val_score(logit, X_train, y_train, cv=skf)\n",
    "print u'Scross-val score ', logit_cv_scores"
   ]
  },
  {
   "cell_type": "code",
   "execution_count": 48,
   "metadata": {
    "ExecuteTime": {
     "end_time": "2017-02-08T20:23:57.297167",
     "start_time": "2017-02-08T20:23:56.595488"
    },
    "collapsed": false
   },
   "outputs": [
    {
     "name": "stdout",
     "output_type": "stream",
     "text": [
      "Hold-out score  0.764162123726\n"
     ]
    }
   ],
   "source": [
    "logit_ac = LogisticRegression(random_state=7, n_jobs=-1)\n",
    "logit_ac.fit(X_train, y_train)\n",
    "\n",
    "acc_score = accuracy_score(y_valid, logit_ac.predict(X_valid))\n",
    "print u'Hold-out score ', acc_score"
   ]
  },
  {
   "cell_type": "markdown",
   "metadata": {},
   "source": [
    "The average proportion of correct answers on cross-validation for each of the 10 parameters C."
   ]
  },
  {
   "cell_type": "code",
   "execution_count": 49,
   "metadata": {
    "ExecuteTime": {
     "end_time": "2017-02-08T20:26:26.335590",
     "start_time": "2017-02-08T20:24:32.866712"
    },
    "collapsed": false
   },
   "outputs": [
    {
     "name": "stdout",
     "output_type": "stream",
     "text": [
      "[0.48374923572693934, 0.71825789572604348, 0.71480239235383014, 0.71297333950232822, 0.71256630910361929, 0.71205808568466677, 0.7119566763741193, 0.71083903691247008, 0.7113467959459161, 0.71053400386091692]\n",
      "CPU times: user 3min 42s, sys: 2.53 s, total: 3min 45s\n",
      "Wall time: 1min 53s\n"
     ]
    }
   ],
   "source": [
    "%%time\n",
    "logit_c_values1 = np.linspace(1e-4, 1e4, 10)\n",
    "\n",
    "logit_mean_cv_scores1 = [cross_val_score(LogisticRegression(C=sc, random_state=7, n_jobs=-1), \n",
    "                                        X_train, y_train, cv=skf).mean() for sc in logit_c_values1]\n",
    "\n",
    "print logit_mean_cv_scores1"
   ]
  },
  {
   "cell_type": "markdown",
   "metadata": {},
   "source": [
    "Draw a graph of the proportion of correct answers on cross-validation according to С."
   ]
  },
  {
   "cell_type": "code",
   "execution_count": 50,
   "metadata": {
    "ExecuteTime": {
     "end_time": "2017-02-08T20:26:26.543205",
     "start_time": "2017-02-08T20:26:26.341267"
    },
    "collapsed": false
   },
   "outputs": [
    {
     "data": {
      "image/png": "[encoded data removed]",
      "text/plain": [
       "<matplotlib.figure.Figure at 0x7fa2f489f890>"
      ]
     },
     "metadata": {},
     "output_type": "display_data"
    }
   ],
   "source": [
    "plot(logit_c_values1, logit_mean_cv_scores1);"
   ]
  },
  {
   "cell_type": "markdown",
   "metadata": {},
   "source": [
    "**Now do the same, but search parameter C in range np.linspace(1e-3, 1, 30). **"
   ]
  },
  {
   "cell_type": "code",
   "execution_count": 51,
   "metadata": {
    "ExecuteTime": {
     "end_time": "2017-02-08T20:27:27.555984",
     "start_time": "2017-02-08T20:27:17.700142"
    },
    "collapsed": false
   },
   "outputs": [
    {
     "name": "stdout",
     "output_type": "stream",
     "text": [
      "[0.54075, 0.72607, 0.73735, 0.74294, 0.7469, 0.74741, 0.74853, 0.75046, 0.75178, 0.75249]\n",
      "CPU times: user 19.3 s, sys: 224 ms, total: 19.5 s\n",
      "Wall time: 9.84 s\n"
     ]
    }
   ],
   "source": [
    "%%time\n",
    "logit_c_values2 = np.linspace(1e-3, 1, 10)\n",
    "\n",
    "logit_mean_cv_scores2 = [round(cross_val_score(LogisticRegression(C=sc, random_state=7, n_jobs=-1), \n",
    "                                        X_train, y_train, cv=skf).mean(), 5) for sc in logit_c_values2]\n",
    "\n",
    "print logit_mean_cv_scores2"
   ]
  },
  {
   "cell_type": "code",
   "execution_count": 52,
   "metadata": {
    "ExecuteTime": {
     "end_time": "2017-02-08T20:27:27.756421",
     "start_time": "2017-02-08T20:27:27.557493"
    },
    "collapsed": false
   },
   "outputs": [
    {
     "data": {
      "image/png": "[encoded data removed]",
      "text/plain": [
       "<matplotlib.figure.Figure at 0x7fa2f48d6cd0>"
      ]
     },
     "metadata": {},
     "output_type": "display_data"
    }
   ],
   "source": [
    "plot(logit_c_values2, logit_mean_cv_scores2);"
   ]
  },
  {
   "cell_type": "markdown",
   "metadata": {},
   "source": [
    "**Conclusions: **\n",
    "\n",
    "As can be seen from the experiments, LinearRegression and RandomForest show acceptable quality for the data of 10 users, but in fact, with the growth of the user sampling time and consumption of resources grow significantly. Question is these models are useful in real life is still open.\n",
    "\n",
    "Another thing can be seen from the experiments, that visualization of the customizable options can significantly speed up their adjustment."
   ]
  },
  {
   "cell_type": "markdown",
   "metadata": {},
   "source": [
    "** 3. As we can see the build LinearRegression and RandomForest can take a lot of time, especially if you have many users. Here to the aid can come Vowpal Wabbit bulky, ugly and repulsive, but as an old tractor crushing all in its path, taking minimum time, making good stuff with good quality. **"
   ]
  },
  {
   "cell_type": "markdown",
   "metadata": {},
   "source": [
    "For VW, we will conduct experiments on 150 users"
   ]
  },
  {
   "cell_type": "code",
   "execution_count": 53,
   "metadata": {
    "ExecuteTime": {
     "end_time": "2017-02-08T20:34:27.058867",
     "start_time": "2017-02-08T20:34:26.773850"
    },
    "collapsed": false
   },
   "outputs": [],
   "source": [
    "with open('capstone_websites_data/X_sparse_150users.pkl', 'rb') as X150_pkl:\n",
    "    X_sparse_150users = pickle.load(X150_pkl)\n",
    "with open('capstone_websites_data/y_150users.pkl', 'rb') as y150_pkl:\n",
    "    y_150users = pickle.load(y150_pkl)"
   ]
  },
  {
   "cell_type": "markdown",
   "metadata": {},
   "source": [
    "**Vowpal Wabbit likes that the class labels were distributed from 1 to K, where K is the number of classes in a classification problem (in our case 150). So we'll have to apply LabelEncoder, and even +1 then add (LabelEncoder translates labels in a range from 0 to K-1).**"
   ]
  },
  {
   "cell_type": "code",
   "execution_count": 54,
   "metadata": {
    "ExecuteTime": {
     "end_time": "2017-02-08T20:35:21.877041",
     "start_time": "2017-02-08T20:35:21.699520"
    },
    "collapsed": false
   },
   "outputs": [],
   "source": [
    "class_encoder = LabelEncoder().fit(y_150users.astype('str'))\n",
    "y_for_vw = class_encoder.transform(y_150users.astype('str')) + 1"
   ]
  },
  {
   "cell_type": "code",
   "execution_count": 55,
   "metadata": {
    "ExecuteTime": {
     "end_time": "2017-02-08T20:35:23.670793",
     "start_time": "2017-02-08T20:35:23.517416"
    },
    "collapsed": true
   },
   "outputs": [],
   "source": [
    "X_train, X_valid, y_train, y_valid = train_test_split(X_sparse_150users, y_for_vw, \n",
    "                                                      test_size=0.3, \n",
    "                                                     random_state=7, stratify=y_for_vw)"
   ]
  },
  {
   "cell_type": "markdown",
   "metadata": {
    "collapsed": true
   },
   "source": [
    "**Implement a function that transforms the sparse matrix format Vowpal Wabbit.**"
   ]
  },
  {
   "cell_type": "code",
   "execution_count": 56,
   "metadata": {
    "ExecuteTime": {
     "end_time": "2017-02-08T20:35:43.285499",
     "start_time": "2017-02-08T20:35:43.277411"
    },
    "collapsed": true
   },
   "outputs": [],
   "source": [
    "def sparse_matrix_to_vw(X_sparse, y=None, out_file='tmp.vw'):\n",
    "    with open(out_file, 'w') as out_file_data:\n",
    "        for i in xrange(np.shape(X_sparse)[0]):\n",
    "            if y != None:\n",
    "                s = '{0} | sites'.format(y[i])\n",
    "            else:\n",
    "                s = '1 | sites'\n",
    "            indices_data = zip(X_sparse[i].indices, X_sparse[i].data)  \n",
    "            \n",
    "            out_file_data.write(s + ''.join(map(lambda pair: ' {0}:{1} '.format(pair[0], pair[1]), indices_data))\n",
    "                                + '\\n')"
   ]
  },
  {
   "cell_type": "markdown",
   "metadata": {
    "collapsed": true
   },
   "source": [
    "**Apply a function to the training sample (X_train, y_train) and hold-out sample (X_valid, y_valid).**"
   ]
  },
  {
   "cell_type": "code",
   "execution_count": 57,
   "metadata": {
    "ExecuteTime": {
     "end_time": "2017-02-08T20:37:49.080295",
     "start_time": "2017-02-08T20:37:24.195748"
    },
    "collapsed": true
   },
   "outputs": [],
   "source": [
    "sparse_matrix_to_vw(X_train, y_train, 'train_part.vw')\n",
    "sparse_matrix_to_vw(X_valid, y_valid, 'valid.vw')"
   ]
  },
  {
   "cell_type": "markdown",
   "metadata": {
    "collapsed": true
   },
   "source": [
    "**Evaluate the first 5 rows of the train, validation.**"
   ]
  },
  {
   "cell_type": "code",
   "execution_count": 59,
   "metadata": {
    "ExecuteTime": {
     "end_time": "2017-02-08T20:38:02.551159",
     "start_time": "2017-02-08T20:38:02.415936"
    },
    "collapsed": false
   },
   "outputs": [
    {
     "name": "stdout",
     "output_type": "stream",
     "text": [
      "50 | sites 3610:1  3595:1  3593:2  211:3  2:3 \r\n",
      "105 | sites 13555:1  13554:1  11192:1  3344:1  292:1  291:1  224:1  0:3 \r\n",
      "65 | sites 1041:2  244:3  28:1  27:2  2:1  0:1 \r\n",
      "114 | sites 9371:1  289:1  288:1  244:1  211:1  27:3  5:1  1:1 \r\n",
      "116 | sites 476:1  69:1  68:2  40:3  2:2  0:1 \r\n"
     ]
    }
   ],
   "source": [
    "!head -5 train_part.vw"
   ]
  },
  {
   "cell_type": "code",
   "execution_count": 60,
   "metadata": {
    "ExecuteTime": {
     "end_time": "2017-02-08T20:38:10.727798",
     "start_time": "2017-02-08T20:38:10.589834"
    },
    "collapsed": false
   },
   "outputs": [
    {
     "name": "stdout",
     "output_type": "stream",
     "text": [
      "104 | sites 17385:1  17384:2  295:1  290:1  265:3  36:2 \r\n",
      "16 | sites 27:3  26:4  1:3 \r\n",
      "41 | sites 10651:10 \r\n",
      "38 | sites 1153:1  1152:1  1151:1  457:1  328:1  306:1  6:2  2:1  0:1 \r\n",
      "136 | sites 21908:1  19912:1  7904:2  1227:1  1226:1  1225:1  709:1  201:1  0:1 \r\n"
     ]
    }
   ],
   "source": [
    "!head -5 valid.vw"
   ]
  },
  {
   "cell_type": "markdown",
   "metadata": {
    "collapsed": true
   },
   "source": [
    "**Train the model on a sample of train_part.vw. Point out, that we solve the problem of classification with 150 classes (*--oaa*), will make 10 passes through the sample (*--passes*). Set cache file (*--cache_file*), so the VW will be faster after the first passages in the sample (past the cache file is removed with the help of the argument *-k*). Also set value of the parameter b=26. Its the number of bits used for hashing, in our case we need more than the default 18.**"
   ]
  },
  {
   "cell_type": "code",
   "execution_count": 62,
   "metadata": {
    "ExecuteTime": {
     "end_time": "2017-02-08T20:42:06.216848",
     "start_time": "2017-02-08T20:41:34.487157"
    },
    "collapsed": false
   },
   "outputs": [
    {
     "name": "stdout",
     "output_type": "stream",
     "text": [
      "final_regressor = train_part.model\n",
      "Num weight bits = 26\n",
      "learning rate = 0.5\n",
      "initial_t = 0\n",
      "power_t = 0.5\n",
      "decay_learning_rate = 1\n",
      "creating cache_file = train_part.cachef\n",
      "Reading datafile = train_part.vw\n",
      "num sources = 1\n",
      "average  since         example        example  current  current  current\n",
      "loss     last          counter         weight    label  predict features\n",
      "1.000000 1.000000            1            1.0       50        1        7\n",
      "1.000000 1.000000            2            2.0      105       50       10\n",
      "1.000000 1.000000            4            4.0      114       65       10\n",
      "1.000000 1.000000            8            8.0       38      105        5\n",
      "0.937500 0.875000           16           16.0       88       83        5\n",
      "0.968750 1.000000           32           32.0      105       95        3\n",
      "0.953125 0.937500           64           64.0       75      150       10\n",
      "0.937500 0.921875          128          128.0      136       21        8\n",
      "0.929688 0.921875          256          256.0       87      115        8\n",
      "0.912109 0.894531          512          512.0      112       62        9\n",
      "0.880859 0.849609         1024         1024.0        1      115        7\n",
      "0.858887 0.836914         2048         2048.0       49       20        8\n",
      "0.817139 0.775391         4096         4096.0       69      114       10\n",
      "0.771118 0.725098         8192         8192.0      117      117        5\n",
      "0.728333 0.685547        16384        16384.0       96       10        9\n",
      "0.683319 0.638306        32768        32768.0        9      116       12\n",
      "0.642395 0.601471        65536        65536.0      142      101       11\n",
      "0.605507 0.605507       131072       131072.0       83      113        7 h\n",
      "0.581611 0.557715       262144       262144.0       82       32       10 h\n",
      "0.568015 0.554419       524288       524288.0      147      147        9 h\n",
      "\n",
      "finished run\n",
      "number of examples per pass = 86322\n",
      "passes used = 10\n",
      "weighted example sum = 863220.000000\n",
      "weighted label sum = 0.000000\n",
      "average loss = 0.552914 h\n",
      "total feature number = 6882950\n",
      "CPU times: user 588 ms, sys: 84 ms, total: 672 ms\n",
      "Wall time: 31.7 s\n"
     ]
    }
   ],
   "source": [
    "%%time\n",
    "!vw -d train_part.vw -k -b 26 --oaa 150  --passes 10 --cache_file train_part.cachef \\\n",
    "-f train_part.model --random_seed=123 "
   ]
  },
  {
   "cell_type": "markdown",
   "metadata": {
    "collapsed": true
   },
   "source": [
    "**Write predictions on a sample *valid.vw* in *vw_valid_pred.csv*. **"
   ]
  },
  {
   "cell_type": "code",
   "execution_count": 63,
   "metadata": {
    "ExecuteTime": {
     "end_time": "2017-02-08T20:42:38.769803",
     "start_time": "2017-02-08T20:42:38.196436"
    },
    "collapsed": false
   },
   "outputs": [
    {
     "name": "stdout",
     "output_type": "stream",
     "text": [
      "only testing\n",
      "predictions = vw_valid_pred.csv\n",
      "Num weight bits = 26\n",
      "learning rate = 0.5\n",
      "initial_t = 0\n",
      "power_t = 0.5\n",
      "using no cache\n",
      "Reading datafile = valid.vw\n",
      "num sources = 1\n",
      "average  since         example        example  current  current  current\n",
      "loss     last          counter         weight    label  predict features\n",
      "1.000000 1.000000            1            1.0      104        2        8\n",
      "1.000000 1.000000            2            2.0       16       65        5\n",
      "0.750000 0.500000            4            4.0       38       47       11\n",
      "0.500000 0.250000            8            8.0      115      115       10\n",
      "0.500000 0.500000           16           16.0      115      115        6\n",
      "0.437500 0.375000           32           32.0       10       10        8\n",
      "0.468750 0.500000           64           64.0      115      115        8\n",
      "0.476562 0.484375          128          128.0      148       99        3\n",
      "0.507812 0.539062          256          256.0       36        4        8\n",
      "0.531250 0.554688          512          512.0      139      114       10\n",
      "0.538086 0.544922         1024         1024.0       70        1        9\n",
      "0.552246 0.566406         2048         2048.0       23       32       10\n",
      "0.554932 0.557617         4096         4096.0      139       45       10\n",
      "0.550415 0.545898         8192         8192.0       11      142        8\n",
      "0.557800 0.565186        16384        16384.0      115      115       10\n",
      "0.556488 0.555176        32768        32768.0       88       42        7\n",
      "\n",
      "finished run\n",
      "number of examples per pass = 41106\n",
      "passes used = 1\n",
      "weighted example sum = 41106.000000\n",
      "weighted label sum = 0.000000\n",
      "average loss = 0.553958\n",
      "total feature number = 327249\n",
      "CPU times: user 0 ns, sys: 32 ms, total: 32 ms\n",
      "Wall time: 569 ms\n"
     ]
    }
   ],
   "source": [
    "%%time\n",
    "!vw -i train_part.model -t -d valid.vw -p vw_valid_pred.csv --random_seed=123"
   ]
  },
  {
   "cell_type": "markdown",
   "metadata": {
    "collapsed": true
   },
   "source": [
    "**Read predictions from *vw_valid_pred.csv* file and look at the proportion of correct answers on the hold-out part.**"
   ]
  },
  {
   "cell_type": "code",
   "execution_count": 65,
   "metadata": {
    "ExecuteTime": {
     "end_time": "2017-02-08T20:43:57.555214",
     "start_time": "2017-02-08T20:43:57.534251"
    },
    "collapsed": false
   },
   "outputs": [
    {
     "name": "stdout",
     "output_type": "stream",
     "text": [
      "accuracy 0.446041940349\n"
     ]
    }
   ],
   "source": [
    "vw_valid_pred = pd.read_csv('vw_valid_pred.csv', names=['target'])\n",
    "acc_score = accuracy_score(y_valid, vw_valid_pred)\n",
    "print 'accuracy', acc_score"
   ]
  },
  {
   "cell_type": "markdown",
   "metadata": {},
   "source": [
    "## 4. Further feature engineering"
   ]
  },
  {
   "cell_type": "markdown",
   "metadata": {
    "collapsed": true
   },
   "source": [
    "** So, we get Accuracy score: 0.4460 on hold-out dataset. Seemed not to be so much, but note how faster model was trained and in addition we used all 150 users! Also note that we have trained model on a sample consisting only of information about visited sites. Let's extend our dataset with more features. **\n",
    "\n",
    "While doing <a href=\"#2.-Visual-analysis-of-data\">Visual analysis of data</a>, we noticed that user behavior differs according to time and day of the week. Some users more active in the morning, some in the evening. I think these signs are important, because usually if the person was active in the morning, and then started to visit many sites in the evening, and not from a set it is most often visited, - it is a direct hint that this account may be used by someone else. So, I decided to add such features:\n",
    "\n",
    "* The number of unique sites in the session\n",
    "* The day of the beginning session (work-day)\n",
    "* Time of day\n",
    "* Top 30 most visited websites by the user"
   ]
  },
  {
   "cell_type": "code",
   "execution_count": 66,
   "metadata": {
    "ExecuteTime": {
     "end_time": "2017-02-08T21:06:28.918325",
     "start_time": "2017-02-08T21:06:28.811875"
    },
    "collapsed": true
   },
   "outputs": [],
   "source": [
    "def feature_engineering(csv_files_mask, site_freq_path, feature_names, session_length=10, window_size=1, f_type=(True, True)):\n",
    "    FMT = '%Y-%m-%dT%H:%M:%S'\n",
    "    user_session = []\n",
    "\n",
    "    features_len = len(feature_names)\n",
    "\n",
    "    if window_size == 1:\n",
    "        window_size = session_length\n",
    "\n",
    "    with open(site_freq_path, 'rb') as XX_pkl:\n",
    "        freq_dict = pickle.load(XX_pkl)\n",
    "\n",
    "    for file_name in sorted(glob(csv_files_mask)):\n",
    "\n",
    "        data = pd.read_csv(file_name, names=['user_id', 'date', 'site'])\n",
    "        user_id = data['user_id'][0]\n",
    "\n",
    "        end_idx = session_length\n",
    "        rows_count = data.shape[0]\n",
    "\n",
    "        if f_type[0] and f_type[1]:\n",
    "            top_30_sorted = sorted(freq_dict.items(), key=lambda x: x[1][1], reverse=True)\n",
    "            user_top30_sites = [freq[0] for freq in top_30_sorted[:10]]\n",
    "\n",
    "        for start_idx in xrange(0, rows_count, window_size):\n",
    "            if end_idx >= rows_count:\n",
    "                data_slice = data[start_idx:rows_count]\n",
    "            else:\n",
    "                data_slice = data[start_idx:end_idx]\n",
    "\n",
    "            if end_idx + window_size > rows_count:\n",
    "                end_idx = rows_count\n",
    "            else:\n",
    "                end_idx += window_size\n",
    "\n",
    "            # build session row\n",
    "            session = np.zeros(features_len, dtype=np.int32)\n",
    "            data_slice_len = len(data_slice)\n",
    "            tm_diff = time_diff2(data_slice)\n",
    "\n",
    "            if f_type[0] and f_type[1]:\n",
    "                # uniques\n",
    "                uniques = data_slice['site'].unique()\n",
    "                session[0] = len(uniques)\n",
    "                # start_hour\n",
    "                session[1] = tm_diff[\"start_hour\"]\n",
    "                # day_of_week\n",
    "                session[2] = tm_diff[\"day_of_week\"]\n",
    "                # how much site from user's top 20 he saw in session\n",
    "                session[3] = len([st for st in uniques if st in user_top30_sites])\n",
    "                # part of the day\n",
    "                if 6 < tm_diff[\"start_hour\"] < 13:\n",
    "                    session[4] = 1\n",
    "                if 12 < tm_diff[\"start_hour\"] < 19:\n",
    "                    session[4] = 2\n",
    "                if tm_diff[\"start_hour\"] > 18:\n",
    "                    session[4] = 3\n",
    "                if 0 < tm_diff[\"start_hour\"] < 7:\n",
    "                    session[4] = 4\n",
    "\n",
    "                if tm_diff[\"day_of_week\"] < 6:\n",
    "                    session[5] = 1\n",
    "                else:\n",
    "                    session[5] = 2\n",
    "\n",
    "            # target\n",
    "            session[features_len - 1] = user_id\n",
    "\n",
    "            user_session.append(session.tolist())\n",
    "\n",
    "    return pd.DataFrame(data=user_session, columns=feature_names)"
   ]
  },
  {
   "cell_type": "markdown",
   "metadata": {},
   "source": [
    "** Prepare dataset for 10 users only **"
   ]
  },
  {
   "cell_type": "code",
   "execution_count": 67,
   "metadata": {
    "ExecuteTime": {
     "end_time": "2017-02-08T21:07:33.939004",
     "start_time": "2017-02-08T21:06:34.750368"
    },
    "collapsed": false
   },
   "outputs": [],
   "source": [
    "feature_names = ['#unique_sites', 'start_hour', 'day_of_week', '#of_top_30', 'time_of_day', 'working_day', 'target']\n",
    "\n",
    "new_features_10users = feature_engineering('capstone_websites_data/10users/*', 'capstone_websites_data/site_freq_10users.pkl',\n",
    "                                      feature_names, session_length=10)"
   ]
  },
  {
   "cell_type": "code",
   "execution_count": 68,
   "metadata": {
    "ExecuteTime": {
     "end_time": "2017-02-08T21:07:33.962523",
     "start_time": "2017-02-08T21:07:33.940812"
    },
    "collapsed": false
   },
   "outputs": [
    {
     "data": {
      "text/html": [
       "<div>\n",
       "<table border=\"1\" class=\"dataframe\">\n",
       "  <thead>\n",
       "    <tr style=\"text-align: right;\">\n",
       "      <th></th>\n",
       "      <th>#unique_sites</th>\n",
       "      <th>start_hour</th>\n",
       "      <th>day_of_week</th>\n",
       "      <th>#of_top_30</th>\n",
       "      <th>time_of_day</th>\n",
       "      <th>working_day</th>\n",
       "      <th>target</th>\n",
       "    </tr>\n",
       "  </thead>\n",
       "  <tbody>\n",
       "    <tr>\n",
       "      <th>0</th>\n",
       "      <td>8</td>\n",
       "      <td>8</td>\n",
       "      <td>5</td>\n",
       "      <td>2</td>\n",
       "      <td>1</td>\n",
       "      <td>1</td>\n",
       "      <td>31</td>\n",
       "    </tr>\n",
       "    <tr>\n",
       "      <th>1</th>\n",
       "      <td>8</td>\n",
       "      <td>8</td>\n",
       "      <td>5</td>\n",
       "      <td>1</td>\n",
       "      <td>1</td>\n",
       "      <td>1</td>\n",
       "      <td>31</td>\n",
       "    </tr>\n",
       "    <tr>\n",
       "      <th>2</th>\n",
       "      <td>7</td>\n",
       "      <td>8</td>\n",
       "      <td>5</td>\n",
       "      <td>2</td>\n",
       "      <td>1</td>\n",
       "      <td>1</td>\n",
       "      <td>31</td>\n",
       "    </tr>\n",
       "    <tr>\n",
       "      <th>3</th>\n",
       "      <td>6</td>\n",
       "      <td>8</td>\n",
       "      <td>5</td>\n",
       "      <td>0</td>\n",
       "      <td>1</td>\n",
       "      <td>1</td>\n",
       "      <td>31</td>\n",
       "    </tr>\n",
       "    <tr>\n",
       "      <th>4</th>\n",
       "      <td>10</td>\n",
       "      <td>8</td>\n",
       "      <td>5</td>\n",
       "      <td>0</td>\n",
       "      <td>1</td>\n",
       "      <td>1</td>\n",
       "      <td>31</td>\n",
       "    </tr>\n",
       "  </tbody>\n",
       "</table>\n",
       "</div>"
      ],
      "text/plain": [
       "   #unique_sites  start_hour  day_of_week  #of_top_30  time_of_day  \\\n",
       "0              8           8            5           2            1   \n",
       "1              8           8            5           1            1   \n",
       "2              7           8            5           2            1   \n",
       "3              6           8            5           0            1   \n",
       "4             10           8            5           0            1   \n",
       "\n",
       "   working_day  target  \n",
       "0            1      31  \n",
       "1            1      31  \n",
       "2            1      31  \n",
       "3            1      31  \n",
       "4            1      31  "
      ]
     },
     "execution_count": 68,
     "metadata": {},
     "output_type": "execute_result"
    }
   ],
   "source": [
    "new_features_10users.head()"
   ]
  },
  {
   "cell_type": "markdown",
   "metadata": {},
   "source": [
    "##### So, let's see how users behave during the day:"
   ]
  },
  {
   "cell_type": "code",
   "execution_count": 69,
   "metadata": {
    "ExecuteTime": {
     "end_time": "2017-02-08T21:09:00.946083",
     "start_time": "2017-02-08T21:08:58.590186"
    },
    "collapsed": false
   },
   "outputs": [
    {
     "data": {
      "image/png": "[encoded data removed]",
      "text/plain": [
       "<matplotlib.figure.Figure at 0x7fa2f4aee790>"
      ]
     },
     "metadata": {},
     "output_type": "display_data"
    }
   ],
   "source": [
    "fig, axes = plt.subplots(nrows=3, ncols=4, figsize=(16, 10))\n",
    "\n",
    "for idx, (user, sub_df) in  enumerate(pd.groupby(new_features_10users, 'target')):\n",
    "    ax = sub_df['time_of_day'].plot(subplots=True, kind=\"hist\", color=color_dic[id_name_dict[user]],\n",
    "                                      ax=axes[idx/4, idx%4], bins=4)\n",
    "    ax[0].legend(labels=[id_name_dict[user]])\n",
    "    ax[0].set_ylabel(\"Visits frequency\")\n",
    "    ax[0].set_xlabel(\"Part of the day\")\n",
    "    ax[0].set_xticklabels(['Morning', 'Noon', 'Evening', 'Night'])\n",
    "\n",
    "fig.tight_layout()"
   ]
  },
  {
   "cell_type": "markdown",
   "metadata": {},
   "source": [
    "##### User behavior on weekdays and weekends:"
   ]
  },
  {
   "cell_type": "code",
   "execution_count": 70,
   "metadata": {
    "ExecuteTime": {
     "end_time": "2017-02-08T21:10:00.503825",
     "start_time": "2017-02-08T21:09:58.147937"
    },
    "collapsed": false
   },
   "outputs": [
    {
     "data": {
      "image/png": "[encoded data removed]",
      "text/plain": [
       "<matplotlib.figure.Figure at 0x7fa2ecc64510>"
      ]
     },
     "metadata": {},
     "output_type": "display_data"
    }
   ],
   "source": [
    "fig, axes = plt.subplots(nrows=3, ncols=4, figsize=(16, 10))\n",
    "\n",
    "for idx, (user, sub_df) in  enumerate(pd.groupby(new_features_10users, 'target')):    \n",
    "    ax = sub_df['working_day'].plot(subplots=True, kind=\"hist\", color=color_dic[id_name_dict[user]], legend=False, \n",
    "                                    ax=axes[idx/4, idx%4], bins=3)\n",
    "    ax[0].yaxis.set_tick_params(pad=35)\n",
    "    ax[0].legend(labels=[id_name_dict[user]])\n",
    "    ax[0].set_ylabel(\"Visits frequency\")\n",
    "    ax[0].set_xticklabels(['Working day', \"\" , 'Weekend'])\n",
    "\n",
    "fig.tight_layout()"
   ]
  },
  {
   "cell_type": "code",
   "execution_count": 72,
   "metadata": {
    "ExecuteTime": {
     "end_time": "2017-02-08T21:11:13.664581",
     "start_time": "2017-02-08T21:11:11.311585"
    },
    "collapsed": false
   },
   "outputs": [
    {
     "data": {
      "image/png": "[encoded data removed]",
      "text/plain": [
       "<matplotlib.figure.Figure at 0x7fa2fa5f8d50>"
      ]
     },
     "metadata": {},
     "output_type": "display_data"
    }
   ],
   "source": [
    "fig, axes = plt.subplots(nrows=3, ncols=4, figsize=(16, 10))\n",
    "for idx, (user, sub_df) in  enumerate(pd.groupby(new_features_10users, 'target')):\n",
    "    ax = sub_df['#of_top_30'].plot(subplots=True, kind=\"hist\", color=color_dic[id_name_dict[user]], \n",
    "                                   legend=False, ax=axes[idx/4, idx%4], bins=10)\n",
    "    ax[0].legend(labels=[user])\n",
    "    ax[0].set_ylabel(\"Visits frequency\")\n",
    "    ax[0].set_xlabel(\"A number of websites from user TOP30\")\n",
    "\n",
    "fig.tight_layout()"
   ]
  },
  {
   "cell_type": "markdown",
   "metadata": {},
   "source": [
    "** As we see, the new features perfectly show the difference in the behavior of users and thus can help us improve accuracy score. **"
   ]
  },
  {
   "cell_type": "markdown",
   "metadata": {},
   "source": [
    "**Prepare dataset for all 150 users**"
   ]
  },
  {
   "cell_type": "code",
   "execution_count": 73,
   "metadata": {
    "ExecuteTime": {
     "end_time": "2017-02-08T21:24:58.662097",
     "start_time": "2017-02-08T21:14:57.629405"
    },
    "collapsed": true
   },
   "outputs": [],
   "source": [
    "feature_names = ['#unique_sites', 'start_hour', 'day_of_week', '#of_top_30', 'time_of_day', 'working_day', 'target']\n",
    "new_features_150users = feature_engineering('capstone_websites_data/150users/*', 'capstone_websites_data/site_freq_150users.pkl',\n",
    "                                      feature_names, session_length=10)"
   ]
  },
  {
   "cell_type": "code",
   "execution_count": 74,
   "metadata": {
    "ExecuteTime": {
     "end_time": "2017-02-08T21:24:58.682760",
     "start_time": "2017-02-08T21:24:58.664034"
    },
    "collapsed": false
   },
   "outputs": [
    {
     "data": {
      "text/html": [
       "<div>\n",
       "<table border=\"1\" class=\"dataframe\">\n",
       "  <thead>\n",
       "    <tr style=\"text-align: right;\">\n",
       "      <th></th>\n",
       "      <th>#unique_sites</th>\n",
       "      <th>start_hour</th>\n",
       "      <th>day_of_week</th>\n",
       "      <th>#of_top_30</th>\n",
       "      <th>time_of_day</th>\n",
       "      <th>working_day</th>\n",
       "      <th>target</th>\n",
       "    </tr>\n",
       "  </thead>\n",
       "  <tbody>\n",
       "    <tr>\n",
       "      <th>0</th>\n",
       "      <td>6</td>\n",
       "      <td>8</td>\n",
       "      <td>5</td>\n",
       "      <td>3</td>\n",
       "      <td>1</td>\n",
       "      <td>1</td>\n",
       "      <td>6</td>\n",
       "    </tr>\n",
       "    <tr>\n",
       "      <th>1</th>\n",
       "      <td>3</td>\n",
       "      <td>8</td>\n",
       "      <td>5</td>\n",
       "      <td>1</td>\n",
       "      <td>1</td>\n",
       "      <td>1</td>\n",
       "      <td>6</td>\n",
       "    </tr>\n",
       "    <tr>\n",
       "      <th>2</th>\n",
       "      <td>5</td>\n",
       "      <td>9</td>\n",
       "      <td>5</td>\n",
       "      <td>1</td>\n",
       "      <td>1</td>\n",
       "      <td>1</td>\n",
       "      <td>6</td>\n",
       "    </tr>\n",
       "    <tr>\n",
       "      <th>3</th>\n",
       "      <td>6</td>\n",
       "      <td>9</td>\n",
       "      <td>5</td>\n",
       "      <td>0</td>\n",
       "      <td>1</td>\n",
       "      <td>1</td>\n",
       "      <td>6</td>\n",
       "    </tr>\n",
       "    <tr>\n",
       "      <th>4</th>\n",
       "      <td>6</td>\n",
       "      <td>9</td>\n",
       "      <td>5</td>\n",
       "      <td>0</td>\n",
       "      <td>1</td>\n",
       "      <td>1</td>\n",
       "      <td>6</td>\n",
       "    </tr>\n",
       "  </tbody>\n",
       "</table>\n",
       "</div>"
      ],
      "text/plain": [
       "   #unique_sites  start_hour  day_of_week  #of_top_30  time_of_day  \\\n",
       "0              6           8            5           3            1   \n",
       "1              3           8            5           1            1   \n",
       "2              5           9            5           1            1   \n",
       "3              6           9            5           0            1   \n",
       "4              6           9            5           0            1   \n",
       "\n",
       "   working_day  target  \n",
       "0            1       6  \n",
       "1            1       6  \n",
       "2            1       6  \n",
       "3            1       6  \n",
       "4            1       6  "
      ]
     },
     "execution_count": 74,
     "metadata": {},
     "output_type": "execute_result"
    }
   ],
   "source": [
    "new_features_150users.head()"
   ]
  },
  {
   "cell_type": "code",
   "execution_count": 211,
   "metadata": {
    "ExecuteTime": {
     "end_time": "2017-02-09T00:17:12.039606",
     "start_time": "2017-02-09T00:17:12.005436"
    },
    "collapsed": false
   },
   "outputs": [
    {
     "data": {
      "text/html": [
       "<div>\n",
       "<table border=\"1\" class=\"dataframe\">\n",
       "  <thead>\n",
       "    <tr style=\"text-align: right;\">\n",
       "      <th></th>\n",
       "      <th>#unique_sites</th>\n",
       "      <th>start_hour</th>\n",
       "      <th>day_of_week</th>\n",
       "      <th>#of_top_30</th>\n",
       "      <th>time_of_day</th>\n",
       "      <th>working_day</th>\n",
       "    </tr>\n",
       "  </thead>\n",
       "  <tbody>\n",
       "    <tr>\n",
       "      <th>0</th>\n",
       "      <td>6</td>\n",
       "      <td>8</td>\n",
       "      <td>5</td>\n",
       "      <td>3</td>\n",
       "      <td>1</td>\n",
       "      <td>1</td>\n",
       "    </tr>\n",
       "    <tr>\n",
       "      <th>1</th>\n",
       "      <td>3</td>\n",
       "      <td>8</td>\n",
       "      <td>5</td>\n",
       "      <td>1</td>\n",
       "      <td>1</td>\n",
       "      <td>1</td>\n",
       "    </tr>\n",
       "    <tr>\n",
       "      <th>2</th>\n",
       "      <td>5</td>\n",
       "      <td>9</td>\n",
       "      <td>5</td>\n",
       "      <td>1</td>\n",
       "      <td>1</td>\n",
       "      <td>1</td>\n",
       "    </tr>\n",
       "    <tr>\n",
       "      <th>3</th>\n",
       "      <td>6</td>\n",
       "      <td>9</td>\n",
       "      <td>5</td>\n",
       "      <td>0</td>\n",
       "      <td>1</td>\n",
       "      <td>1</td>\n",
       "    </tr>\n",
       "    <tr>\n",
       "      <th>4</th>\n",
       "      <td>6</td>\n",
       "      <td>9</td>\n",
       "      <td>5</td>\n",
       "      <td>0</td>\n",
       "      <td>1</td>\n",
       "      <td>1</td>\n",
       "    </tr>\n",
       "  </tbody>\n",
       "</table>\n",
       "</div>"
      ],
      "text/plain": [
       "   #unique_sites  start_hour  day_of_week  #of_top_30  time_of_day  \\\n",
       "0              6           8            5           3            1   \n",
       "1              3           8            5           1            1   \n",
       "2              5           9            5           1            1   \n",
       "3              6           9            5           0            1   \n",
       "4              6           9            5           0            1   \n",
       "\n",
       "   working_day  \n",
       "0            1  \n",
       "1            1  \n",
       "2            1  \n",
       "3            1  \n",
       "4            1  "
      ]
     },
     "execution_count": 211,
     "metadata": {},
     "output_type": "execute_result"
    }
   ],
   "source": [
    "y_target = new_features_150users.iloc[:, -1]\n",
    "nf_150users = new_features_150users.iloc[:, :-1]\n",
    "nf_150users.head()"
   ]
  },
  {
   "cell_type": "markdown",
   "metadata": {},
   "source": [
    "** We must remember that the features start_hour, day_of_week, time_of_day , working_day - categorical, they have to be binarized before using**"
   ]
  },
  {
   "cell_type": "code",
   "execution_count": 234,
   "metadata": {
    "ExecuteTime": {
     "end_time": "2017-02-09T00:28:03.627034",
     "start_time": "2017-02-09T00:28:03.228217"
    },
    "collapsed": false
   },
   "outputs": [
    {
     "name": "stdout",
     "output_type": "stream",
     "text": [
      "(137019, 27844)\n"
     ]
    }
   ],
   "source": [
    "from sklearn.preprocessing import OneHotEncoder\n",
    "binarized = OneHotEncoder().fit_transform(nf_150users)\n",
    "\n",
    "_X_150users = sp_hstack((X_sparse_150users,  binarized)).tocsr()\n",
    "print np.shape(_X_150users)"
   ]
  },
  {
   "cell_type": "code",
   "execution_count": 235,
   "metadata": {
    "ExecuteTime": {
     "end_time": "2017-02-09T00:28:09.501518",
     "start_time": "2017-02-09T00:28:09.337051"
    },
    "collapsed": true
   },
   "outputs": [],
   "source": [
    "X_train, X_valid, y_train, y_valid = train_test_split(_X_150users, y_for_vw, \n",
    "                                                      test_size=0.3, \n",
    "                                                      random_state=7, \n",
    "                                                      stratify=y_for_vw)"
   ]
  },
  {
   "cell_type": "code",
   "execution_count": 229,
   "metadata": {
    "ExecuteTime": {
     "end_time": "2017-02-09T00:25:59.266506",
     "start_time": "2017-02-09T00:25:59.260472"
    },
    "collapsed": false
   },
   "outputs": [
    {
     "name": "stdout",
     "output_type": "stream",
     "text": [
      "(137019, 27844)\n",
      "(137019,)\n"
     ]
    }
   ],
   "source": [
    "print np.shape(_X_150users)\n",
    "print np.shape(y_for_vw)"
   ]
  },
  {
   "cell_type": "markdown",
   "metadata": {},
   "source": [
    "**Convert to format VW**"
   ]
  },
  {
   "cell_type": "code",
   "execution_count": 236,
   "metadata": {
    "ExecuteTime": {
     "end_time": "2017-02-09T00:28:41.442490",
     "start_time": "2017-02-09T00:28:12.853953"
    },
    "collapsed": true
   },
   "outputs": [],
   "source": [
    "sparse_matrix_to_vw(X_train, y_train, 'train_part.vw')\n",
    "sparse_matrix_to_vw(X_valid, y_valid, 'valid.vw')"
   ]
  },
  {
   "cell_type": "code",
   "execution_count": 216,
   "metadata": {
    "ExecuteTime": {
     "end_time": "2017-02-09T00:19:25.525859",
     "start_time": "2017-02-09T00:19:25.379551"
    },
    "collapsed": false
   },
   "outputs": [
    {
     "name": "stdout",
     "output_type": "stream",
     "text": [
      "50 | sites 27852:1.0  27850:1.0  27843:1.0  27834:1.0  27826:1.0  27811:1.0  27804:1.0  27802:1.0  27801:1.0  27799:1.0  27797:1.0  3610:1.0  3595:1.0  3593:2.0  211:3.0  2:3.0 \r\n",
      "105 | sites 27852:1.0  27849:1.0  27843:1.0  27836:1.0  27821:1.0  27814:1.0  27804:1.0  27802:1.0  27800:1.0  27799:1.0  27798:1.0  13555:1.0  13554:1.0  11192:1.0  3344:1.0  292:1.0  291:1.0  224:1.0  0:3.0 \r\n",
      "65 | sites 27852:1.0  27850:1.0  27844:1.0  27835:1.0  27825:1.0  27812:1.0  27805:1.0  27804:1.0  27803:1.0  27802:1.0  27801:1.0  27800:1.0  27799:1.0  1041:2.0  244:3.0  28:1.0  27:2.0  2:1.0  0:1.0 \r\n",
      "114 | sites 27853:1.0  27851:1.0  27844:1.0  27840:1.0  27830:1.0  27814:1.0  27803:1.0  27802:1.0  27801:1.0  27800:1.0  27799:1.0  27798:1.0  9371:1.0  289:1.0  288:1.0  244:1.0  211:1.0  27:3.0  5:1.0  1:1.0 \r\n",
      "116 | sites 27852:1.0  27849:1.0  27844:1.0  27836:1.0  27818:1.0  27812:1.0  27805:1.0  27804:1.0  27802:1.0  27801:1.0  27800:1.0  27799:1.0  27798:1.0  27797:1.0  476:1.0  69:1.0  68:2.0  40:3.0  2:2.0  0:1.0 \r\n"
     ]
    }
   ],
   "source": [
    "!head -5 train_part.vw"
   ]
  },
  {
   "cell_type": "code",
   "execution_count": 217,
   "metadata": {
    "ExecuteTime": {
     "end_time": "2017-02-09T00:19:25.676696",
     "start_time": "2017-02-09T00:19:25.527775"
    },
    "collapsed": false
   },
   "outputs": [
    {
     "name": "stdout",
     "output_type": "stream",
     "text": [
      "104 | sites 27852:1.0  27850:1.0  27841:1.0  27838:1.0  27825:1.0  27812:1.0  27804:1.0  27799:1.0  17385:1.0  17384:2.0  295:1.0  290:1.0  265:3.0  36:2.0 \r\n",
      "16 | sites 27852:1.0  27851:1.0  27844:1.0  27838:1.0  27829:1.0  27809:1.0  27805:1.0  27804:1.0  27803:1.0  27802:1.0  27801:1.0  27800:1.0  27798:1.0  27797:1.0  27:3.0  26:4.0  1:3.0 \r\n",
      "41 | sites 27852:1.0  27849:1.0  27841:1.0  27835:1.0  27820:1.0  27807:1.0  27805:1.0  27804:1.0  27803:1.0  27802:1.0  27801:1.0  27800:1.0  27799:1.0  27798:1.0  27797:1.0  10651:10.0 \r\n",
      "38 | sites 27852:1.0  27849:1.0  27843:1.0  27836:1.0  27821:1.0  27815:1.0  27805:1.0  27802:1.0  27799:1.0  1153:1.0  1152:1.0  1151:1.0  457:1.0  328:1.0  306:1.0  6:2.0  2:1.0  0:1.0 \r\n",
      "136 | sites 27852:1.0  27849:1.0  27842:1.0  27838:1.0  27820:1.0  27815:1.0  27805:1.0  27803:1.0  27802:1.0  27801:1.0  27800:1.0  21908:1.0  19912:1.0  7904:2.0  1227:1.0  1226:1.0  1225:1.0  709:1.0  201:1.0  0:1.0 \r\n"
     ]
    }
   ],
   "source": [
    "!head -5 valid.vw"
   ]
  },
  {
   "cell_type": "markdown",
   "metadata": {},
   "source": [
    "** Train model **"
   ]
  },
  {
   "cell_type": "code",
   "execution_count": 237,
   "metadata": {
    "ExecuteTime": {
     "end_time": "2017-02-09T00:29:13.393367",
     "start_time": "2017-02-09T00:28:41.443923"
    },
    "collapsed": false
   },
   "outputs": [
    {
     "name": "stdout",
     "output_type": "stream",
     "text": [
      "final_regressor = train_part.model\n",
      "Num weight bits = 26\n",
      "learning rate = 0.5\n",
      "initial_t = 0\n",
      "power_t = 0.5\n",
      "decay_learning_rate = 1\n",
      "creating cache_file = train_part.cachef\n",
      "Reading datafile = train_part.vw\n",
      "num sources = 1\n",
      "average  since         example        example  current  current  current\n",
      "loss     last          counter         weight    label  predict features\n",
      "1.000000 1.000000            1            1.0       50        1       13\n",
      "1.000000 1.000000            2            2.0      105       50       16\n",
      "1.000000 1.000000            4            4.0      114       65       16\n",
      "1.000000 1.000000            8            8.0       38      105       11\n",
      "1.000000 1.000000           16           16.0       88       40       11\n",
      "1.000000 1.000000           32           32.0      105        7        9\n",
      "0.968750 0.937500           64           64.0       75       42       16\n",
      "0.960938 0.953125          128          128.0      136      115       14\n",
      "0.949219 0.937500          256          256.0       87       87       14\n",
      "0.929688 0.910156          512          512.0      112       62       15\n",
      "0.891602 0.853516         1024         1024.0        1        2       13\n",
      "0.865723 0.839844         2048         2048.0       49      126       14\n",
      "0.816650 0.767578         4096         4096.0       69       92       16\n",
      "0.767212 0.717773         8192         8192.0      117      117       11\n",
      "0.710938 0.654663        16384        16384.0       96       63       15\n",
      "0.655701 0.600464        32768        32768.0        9      150       18\n",
      "0.604385 0.553070        65536        65536.0      142      142       17\n",
      "0.561148 0.561148       131072       131072.0       83       74       13 h\n",
      "0.529115 0.497082       262144       262144.0       82       32       16 h\n",
      "0.507227 0.485340       524288       524288.0      147      147       15 h\n",
      "\n",
      "finished run\n",
      "number of examples per pass = 86322\n",
      "passes used = 10\n",
      "weighted example sum = 863220.000000\n",
      "weighted label sum = 0.000000\n",
      "average loss = 0.482431 h\n",
      "total feature number = 12062270\n",
      "CPU times: user 572 ms, sys: 68 ms, total: 640 ms\n",
      "Wall time: 31.9 s\n"
     ]
    }
   ],
   "source": [
    "%%time\n",
    "!vw -d train_part.vw -k -b 26 --oaa 150  --passes 10 --cache_file train_part.cachef \\\n",
    "-f train_part.model --random_seed=123 "
   ]
  },
  {
   "cell_type": "markdown",
   "metadata": {},
   "source": [
    "**Write predictions on a sample *valid.vw* in *vw_valid_pred.csv*. **"
   ]
  },
  {
   "cell_type": "code",
   "execution_count": 238,
   "metadata": {
    "ExecuteTime": {
     "end_time": "2017-02-09T00:29:14.041345",
     "start_time": "2017-02-09T00:29:13.395664"
    },
    "collapsed": false
   },
   "outputs": [
    {
     "name": "stdout",
     "output_type": "stream",
     "text": [
      "only testing\n",
      "predictions = vw_valid_pred.csv\n",
      "Num weight bits = 26\n",
      "learning rate = 0.5\n",
      "initial_t = 0\n",
      "power_t = 0.5\n",
      "using no cache\n",
      "Reading datafile = valid.vw\n",
      "num sources = 1\n",
      "average  since         example        example  current  current  current\n",
      "loss     last          counter         weight    label  predict features\n",
      "1.000000 1.000000            1            1.0      104       13       14\n",
      "1.000000 1.000000            2            2.0       16       88       11\n",
      "0.750000 0.500000            4            4.0       38       93       17\n",
      "0.375000 0.000000            8            8.0      115      115       16\n",
      "0.437500 0.500000           16           16.0      115      115       12\n",
      "0.437500 0.437500           32           32.0       10       10       14\n",
      "0.453125 0.468750           64           64.0      115      115       14\n",
      "0.414062 0.375000          128          128.0      148       99        9\n",
      "0.445312 0.476562          256          256.0       36        4       14\n",
      "0.460938 0.476562          512          512.0      139      131       16\n",
      "0.469727 0.478516         1024         1024.0       70       35       15\n",
      "0.479492 0.489258         2048         2048.0       23       32       16\n",
      "0.483154 0.486816         4096         4096.0      139       45       16\n",
      "0.476807 0.470459         8192         8192.0       11      126       14\n",
      "0.481689 0.486572        16384        16384.0      115      115       16\n",
      "0.481689 0.481689        32768        32768.0       88      100       13\n",
      "\n",
      "finished run\n",
      "number of examples per pass = 41106\n",
      "passes used = 1\n",
      "weighted example sum = 41106.000000\n",
      "weighted label sum = 0.000000\n",
      "average loss = 0.479906\n",
      "total feature number = 573885\n",
      "CPU times: user 16 ms, sys: 32 ms, total: 48 ms\n",
      "Wall time: 641 ms\n"
     ]
    }
   ],
   "source": [
    "%%time\n",
    "!vw -i train_part.model -t -d valid.vw -p vw_valid_pred.csv --random_seed=123"
   ]
  },
  {
   "cell_type": "markdown",
   "metadata": {},
   "source": [
    "** Estimation on hold-out dataset**"
   ]
  },
  {
   "cell_type": "code",
   "execution_count": 239,
   "metadata": {
    "ExecuteTime": {
     "end_time": "2017-02-09T00:29:19.225421",
     "start_time": "2017-02-09T00:29:19.208354"
    },
    "collapsed": false
   },
   "outputs": [
    {
     "name": "stdout",
     "output_type": "stream",
     "text": [
      "accuracy 0.520094390113\n"
     ]
    }
   ],
   "source": [
    "vw_valid_pred = pd.read_csv('vw_valid_pred.csv', names=['target'])\n",
    "acc_score = accuracy_score(y_valid, vw_valid_pred)\n",
    "print 'accuracy', acc_score"
   ]
  },
  {
   "cell_type": "markdown",
   "metadata": {},
   "source": [
    "** We see that adding new features improved the accuracy of our predictions from 0.44 to 0.52**"
   ]
  },
  {
   "cell_type": "markdown",
   "metadata": {},
   "source": [
    "## 5. Conclusion"
   ]
  },
  {
   "cell_type": "markdown",
   "metadata": {},
   "source": [
    "From my work I can make some important conclusions:\n",
    "1. Models in Machine Learning work in different ways and, of course, can give predictions with different levels of uncertainty. Theoretically, more complex models are more accurate but they have a downside, for large data, they can be very voracious in the consumption of resources and don't make predictions for an adequate time. If the sample is small, it is best to use more complex and accurate algorithms, but in reality, when the data becomes bigger online learning methods much better suited. They use much less resources, work in a reasonable time and most importantly, additionaly train in mean time. Of course, this flexibility comes at the cost of accuracy of the predictions, but increasing the sample size accuracy precision can grow. \n",
    "\n",
    "\n",
    "2. User identification can have very wide application in such areas as:\n",
    "  * First, we have already identified at the beginning of the study - identification that someone's account was hacked\n",
    "  * Correct user targeting for advertising and services. Knowing the habits of the user can create user's profile and offer him more relevant ads or services.\n",
    "    \n",
    "\n",
    "3. What could be improved? I think one improvement could be a generation of new features. As shown in the experiment, addition of new relevant features improves the prediction of the model. You can try to add such features combinations as 'month-week', 'day of the week-start time of the session' and so on. But with the combination of features it is important not to adjust model to a training sample, because it can lead to overfitting and as a result bad prediction capability on new data. \n",
    "\n",
    "You can still spend more time and computing resources and to try to adjust and optimize the algorithm. Visualisation can significantly accelerate the selection of parameters, a optimization using a grid search to better fine - tune the model."
   ]
  }
 ],
 "metadata": {
  "kernelspec": {
   "display_name": "Python 2",
   "language": "python",
   "name": "python2"
  },
  "language_info": {
   "codemirror_mode": {
    "name": "ipython",
    "version": 2
   },
   "file_extension": ".py",
   "mimetype": "text/x-python",
   "name": "python",
   "nbconvert_exporter": "python",
   "pygments_lexer": "ipython2",
   "version": "2.7.11"
  }
 },
 "nbformat": 4,
 "nbformat_minor": 0
}
